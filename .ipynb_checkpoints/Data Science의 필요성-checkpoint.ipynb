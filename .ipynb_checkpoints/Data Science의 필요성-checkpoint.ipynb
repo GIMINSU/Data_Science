{
 "cells": [
  {
   "cell_type": "markdown",
   "metadata": {},
   "source": [
    "# 1. Data Science의 필요성\n",
    "* 발전  \n",
    "    * Development와 Gross를 구분할 필요가 있다.  \n",
    "    * 발전(Development)을 통해 가치를 증대(Gross)한다.  \n",
    "\n",
    "\n",
    "<img src=\"development.png\" style=\"width:60%; margin: 0 auto 0 auto;\">\n",
    "\n",
    "* 변화\n",
    "    * 특징\n",
    "        * 과거 : 간헐적\n",
    "        * 최근 : 지속적, 가속적  \n",
    "    * Object의 개념 변화\n",
    "        * Object가 바위에서 모래알로 변화되었다.\n",
    "        * ex) 'Global'이라는 Object의 의미  \n",
    "            과거 : 각 국가별 경계가 명확하고 각 국가가 느슨한 형태로 묶여있다.  \n",
    "            최근 : 각 국가라는 바위가 모래알이 되어 (국가별 경계가 모호해져) 실제적인 하나가 되었다.  \n",
    "            Global → ONE → 한국 사회에 국한되는 것이 아니라 전세계에 동시에 적용된다.  \n",
    "            → Object가 바위에서 모래알로 변화되었다.\n",
    "            \n",
    "            \n",
    "<img src=\"Global.png\" style=\"width:60%; margin: 0 auto 0 auto;\">\n",
    "\n",
    "\n",
    "* 모래알 Object\n",
    "    * 모래알을 뜨는 도구에 따라 모래알의 모양이 달라진다. → Flexible 하다.  \n",
    "    * Object가 Flexible하다. → 모든 Portfolio를 모두 다르게 만들 수 있다. → 각 개인의 창의성을 발현할 수 있다.  \n",
    "      → Data Science는 Flexible한 Object를 다룬다.(Unstructured Data를 다룰 수 있다.)           \n",
    "\n",
    "# 2. Data Science를 왜 하는가?\n",
    "Practical(실용적인)에 대한 새로운 정의가 필요하다.  \n",
    "→ 과거의 Theoretical이 Data Science를 통해 Practical이 될 수 있다.  \n",
    "\n",
    "\n",
    "\\* 실용(실무)적인 것과 이론적인 것의 구분  \n",
    "과거 Tool이 발전(development)되지 않았을 때는 이론적인 것과 실용적인 것이 연결되지 않았다.  \n",
    "\n",
    "\n",
    "EX) 계산기의 발명 \n",
    "\n",
    "* 교육, 학습\n",
    "    - 2를 100번 더한다. :사람이 손으로 할 수 있는 계산. 실무, 실용적인 것\n",
    "    - 2 X 100 : 사람이 손으로 할 수 없는 계산. 이론적인 것\n",
    "    - A : +(더하기)와 x(곱하기)를 모두 교육, 학습\n",
    "    - B : +(더하기)만 교육, 학습\n",
    "    - Tool이 발전(development)되기 전에는 2를 100번 더하는 업무에서 A와 B의 사무생산성은 같은 수준임\n",
    "             \n",
    "<img src=\"tool.png\" style=\"width:50%; margin: 0 auto 0 auto;\">\n",
    "\n",
    "* 생산성의 양극화\n",
    "    * Tool(ex. 계산기)이 발전된 이후에는 A와 B의 사무생산성이 양극화됨\n",
    "    * B는 2를 100번 더하기 위해 계산기를 200번 눌러야 한다면, A는 계산기를 6번만 누르면 계산할 수 있음\n",
    "    * Tool의 발전(development)으로 이론적인 것이 실용(실무)적인 것이 될 수 있다.\n",
    "    * Tool의 발전과 이론적인 것의 교육, 학습 여부가 생산성의 양극화를 발생시킨다.  \n",
    "    * 최근에는 Tool의 발전(변화의 발생)이 빈번하기 때문에 이러한 양극화가 가속화된다."
   ]
  }
 ],
 "metadata": {
  "kernelspec": {
   "display_name": "Python 3",
   "language": "python",
   "name": "python3"
  },
  "language_info": {
   "codemirror_mode": {
    "name": "ipython",
    "version": 3
   },
   "file_extension": ".py",
   "mimetype": "text/x-python",
   "name": "python",
   "nbconvert_exporter": "python",
   "pygments_lexer": "ipython3",
   "version": "3.6.3"
  }
 },
 "nbformat": 4,
 "nbformat_minor": 2
}
