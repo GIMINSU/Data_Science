{
 "cells": [
  {
   "cell_type": "markdown",
   "metadata": {},
   "source": [
    "많은 tutorial에서 보는 data와 현실 세계 data의 차이점은 현실 세계의 data는 깨끗하거나 형태가 단일한 경우가 드물다는 것이다. 특히 흥미로운 dataset은 data가 어느정도 누락돼 있는 경우가 많다. 더 골치 아픈 것은 data source가 다르면 전혀 다른 방식으로 data가 누락됐다는 뜻일 수도 있다는 데 있다.  \n",
    "\n",
    "\n",
    "이번 절에서는 누락된 data에 대해 일반적으로 고려할 사항 몇가지를 논의하고 Pandas가 그것을 어떻게 표현하는지 알아보고 누락 data를 처리하는 python의 내장된 Pandas 도구 몇 가지를 설명하려고 한다. 이 책에서는 누락된 data를 null이나 NaN, NA 값으로 나타낸다.\n",
    "\n",
    "# 1. 누락된 Data 처리 방식의 Tradeoff\n",
    "\n",
    "표나 DataFrame의 누락된 data 존재를 나타내기 위해 여러 가지 방식이 개발됐다. 일반적으로 그 방식은 누락된 값을 전체적으로 가리키는 mask를 사용하거나 누락된 항목 하나를 가리키는 sentinel 값을 선택하는 두 전략 중 하나를 중심으로 한다.\n",
    "\n",
    "masking approach(방식)에서 mask는 완전히 별개의 boolean array일 수도 있고 지역적으로 값의 null 상태를 가리키기 위해 data 표현에서 one bit를 전용으로 사용할 수도 있다. \n",
    "\n",
    "sentinel approach에서 sentinel 값은 누락된 정숫값을 -9999나 보기 드문 bit pattern으로 표시하는 등 data에 특화된 표시법일 수도 있고, 누락된 부동 소수점 값을 IEEE 부동 소수점 표준을 따르는 특수 값인 NaN(Not a Number)으로 표시하는 것과 같은 좀 더 일반적인 표시법일 수도 있다.\n",
    "\n",
    "이 방식들은 모두 장단점이 있다. 별도의 mask array를 사용하면 추가적인 boolean array allocation(할당)이 필요한데, 이는 storage와 computation(연산)에 있어 overhead를 일으킨다 sentinel 값은 표시할 수 있는 유훃값의 범위를 줄이고 CPU와 GPU arithmetic(산술 연산)에 별도의 (대체로 최적화되지 않은) logic이 필요할 수도 있다. NaN과 같은 보편적인 특수 값은 모든 data types에서 사용할 수 있는 것은 아니다.\n",
    "\n",
    "대부분의 경우 모두를 만족하는 답이 존재하지 않듯이 언어와 시스템에 따라 다른 규칙을 사용한다. 예를 들어, R언어는 누락된 data를 가리키는 sentinel 값으로 각 data type에 예약된 bit pattern을 사용하고, SciDB system은 NA 상태를 나타내기 위해 모든 cell에 추가 byte를 더해 사용한다.\n",
    "\n",
    "# 2. Pandas에서 누락된 Data\n",
    "\n"
   ]
  },
  {
   "cell_type": "code",
   "execution_count": null,
   "metadata": {
    "collapsed": true
   },
   "outputs": [],
   "source": []
  }
 ],
 "metadata": {
  "kernelspec": {
   "display_name": "Python 3",
   "language": "python",
   "name": "python3"
  },
  "language_info": {
   "codemirror_mode": {
    "name": "ipython",
    "version": 3
   },
   "file_extension": ".py",
   "mimetype": "text/x-python",
   "name": "python",
   "nbconvert_exporter": "python",
   "pygments_lexer": "ipython3",
   "version": "3.6.3"
  }
 },
 "nbformat": 4,
 "nbformat_minor": 2
}
