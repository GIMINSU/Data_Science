{
 "cells": [
  {
   "cell_type": "code",
   "execution_count": 2,
   "metadata": {
    "collapsed": false
   },
   "outputs": [],
   "source": [
    "from IPython.display import display\n",
    "import numpy as np\n",
    "import matplotlib.pyplot as plt\n",
    "import pandas as pd\n",
    "import mglearn"
   ]
  },
  {
   "cell_type": "code",
   "execution_count": 11,
   "metadata": {
    "collapsed": true
   },
   "outputs": [],
   "source": [
    "# 그림이 안나올 때 설정\n",
    "%matplotlib inline"
   ]
  },
  {
   "cell_type": "code",
   "execution_count": 15,
   "metadata": {
    "collapsed": true
   },
   "outputs": [],
   "source": [
    "# title, label에 한글이 깨지지 않고 표시되도록 하는 설정\n",
    "import matplotlib as mpl\n",
    "mpl.rc('font', family='nanumgothic')\n",
    "mpl.rc('axes', unicode_minus=False)"
   ]
  },
  {
   "cell_type": "code",
   "execution_count": 16,
   "metadata": {
    "collapsed": true
   },
   "outputs": [
    {
     "data": {
      "text/plain": [
       "{'Abyssinica SIL',\n",
       " 'DejaVu Sans',\n",
       " 'DejaVu Sans Display',\n",
       " 'DejaVu Sans Mono',\n",
       " 'DejaVu Serif',\n",
       " 'DejaVu Serif Display',\n",
       " 'FreeMono',\n",
       " 'FreeSans',\n",
       " 'FreeSerif',\n",
       " 'Garuda',\n",
       " 'KacstArt',\n",
       " 'KacstBook',\n",
       " 'KacstDecorative',\n",
       " 'KacstDigital',\n",
       " 'KacstFarsi',\n",
       " 'KacstLetter',\n",
       " 'KacstNaskh',\n",
       " 'KacstOffice',\n",
       " 'KacstOne',\n",
       " 'KacstPen',\n",
       " 'KacstPoster',\n",
       " 'KacstQurn',\n",
       " 'KacstScreen',\n",
       " 'KacstTitle',\n",
       " 'KacstTitleL',\n",
       " 'Khmer OS',\n",
       " 'Khmer OS System',\n",
       " 'Kinnari',\n",
       " 'LKLUG',\n",
       " 'Laksaman',\n",
       " 'Liberation Mono',\n",
       " 'Liberation Sans',\n",
       " 'Liberation Sans Narrow',\n",
       " 'Liberation Serif',\n",
       " 'Lohit Punjabi',\n",
       " 'Loma',\n",
       " 'NanumBarunGothic',\n",
       " 'NanumGothic',\n",
       " 'NanumGothicCoding',\n",
       " 'NanumMyeongjo',\n",
       " 'Norasi',\n",
       " 'OpenSymbol',\n",
       " 'Padauk',\n",
       " 'Padauk Book',\n",
       " 'Phetsarath OT',\n",
       " 'Purisa',\n",
       " 'STIX',\n",
       " 'STIX Math',\n",
       " 'STIXGeneral',\n",
       " 'STIXIntegralsD',\n",
       " 'STIXIntegralsSm',\n",
       " 'STIXIntegralsUp',\n",
       " 'STIXIntegralsUpD',\n",
       " 'STIXIntegralsUpSm',\n",
       " 'STIXNonUnicode',\n",
       " 'STIXSizeFiveSym',\n",
       " 'STIXSizeFourSym',\n",
       " 'STIXSizeOneSym',\n",
       " 'STIXSizeThreeSym',\n",
       " 'STIXSizeTwoSym',\n",
       " 'STIXVariants',\n",
       " 'Saab',\n",
       " 'Sawasdee',\n",
       " 'Symbola',\n",
       " 'TakaoPGothic',\n",
       " 'Tibetan Machine Uni',\n",
       " 'Tlwg Mono',\n",
       " 'Tlwg Typewriter',\n",
       " 'Tlwg Typist',\n",
       " 'Tlwg Typo',\n",
       " 'Ubuntu',\n",
       " 'Ubuntu Condensed',\n",
       " 'Ubuntu Mono',\n",
       " 'Umpush',\n",
       " 'UnBatang',\n",
       " 'UnDinaru',\n",
       " 'UnDotum',\n",
       " 'UnGraphic',\n",
       " 'UnGungseo',\n",
       " 'UnPilgi',\n",
       " 'Waree',\n",
       " 'cmb10',\n",
       " 'cmex10',\n",
       " 'cmmi10',\n",
       " 'cmr10',\n",
       " 'cmss10',\n",
       " 'cmsy10',\n",
       " 'cmtt10',\n",
       " 'mry_KacstQurn'}"
      ]
     },
     "execution_count": 16,
     "metadata": {},
     "output_type": "execute_result"
    }
   ],
   "source": [
    "set(sorted([f.name for f in mpl.font_manager.fontManager.ttflist]))"
   ]
  },
  {
   "cell_type": "code",
   "execution_count": 19,
   "metadata": {
    "collapsed": false
   },
   "outputs": [
    {
     "data": {
      "image/png": "[encoded data removed]",
      "text/plain": [
       "<matplotlib.figure.Figure at 0x7fa8c4d1bf60>"
      ]
     },
     "metadata": {},
     "output_type": "display_data"
    }
   ],
   "source": [
    "# 한글이 들어간 그래프 사례\n",
    "X = np.linspace(-np.pi, np.pi, 256)\n",
    "C = np.cos(X)\n",
    "plt.title(u'한글 제목')\n",
    "plt.plot(X, C, label=u\"코사인\")\n",
    "t = 2 * np.pi / 3\n",
    "plt.scatter(t, np.cos(t), 50, color='blue')\n",
    "plt.xlabel(u\"엑스축 라벨\")\n",
    "plt.ylabel(u\"와이축 라벨\")\n",
    "plt.annotate(u\"여기가 0.5!\", xy=(t, np.cos(t)), xycoords='data', xytext=(-90, -50), \n",
    "             textcoords='offset points', fontsize=16, arrowprops=dict(arrowstyle=\"->\"))\n",
    "plt.show()  "
   ]
  },
  {
   "cell_type": "markdown",
   "metadata": {},
   "source": [
    "# 2. 지도 학습 알고리즘"
   ]
  },
  {
   "cell_type": "markdown",
   "metadata": {},
   "source": [
    "## 1) 예제에 사용할 DataSet\n",
    "두 개의 특성을 가진 forge dataset은 인위적으로 만든 이진 분류 dataset입니다.  \n",
    "다음 code는 이 dataset의 모든 data point를 scatter plot으로 그립니다.  \n",
    "$x$ 축은 첫번째 특성이고 $y$ 축은 두 번째 특성입니다."
   ]
  },
  {
   "cell_type": "code",
   "execution_count": 17,
   "metadata": {
    "collapsed": false
   },
   "outputs": [
    {
     "name": "stdout",
     "output_type": "stream",
     "text": [
      "X.shape: (26, 2)\n"
     ]
    },
    {
     "data": {
      "image/png": "[encoded data removed]",
      "text/plain": [
       "<matplotlib.figure.Figure at 0x7fa8c4f0f1d0>"
      ]
     },
     "metadata": {},
     "output_type": "display_data"
    }
   ],
   "source": [
    "# dataset을 만듭니다.\n",
    "X, y = mglearn.datasets.make_forge()\n",
    "\n",
    "# scatter plot을 그립니다.\n",
    "mglearn.discrete_scatter(X[:, 0], X[:, 1],  y)\n",
    "plt.legend([\"class 0\", \"class 1\"], loc = 4)\n",
    "plt.xlabel(\"첫 번째 특성\")\n",
    "plt.ylabel(\"두 번째 특성\")\n",
    "print(\"X.shape: {}\".format(X.shape))"
   ]
  },
  {
   "cell_type": "markdown",
   "metadata": {},
   "source": [
    "X.shape 값에서 알 수 있듯이 이 dataset은 data point(관측치) 26개와 feature(특성 or 변수) 2개를 가집니다.  \n",
    "\n",
    "\n",
    "regression(회귀) algorithm(알고리즘) 설명에는 인위적으로 만든 wave dataset을 사용하겠습니다.   \n",
    "wave dataset은 입력 feature 하나와 modeling 할 target feature(또는 응답(response))를 가집니다.   \n",
    "feature를 x축에 놓고 regression의 target(output(출력))을 y 축에 놓았습니다."
   ]
  },
  {
   "cell_type": "code",
   "execution_count": 22,
   "metadata": {
    "collapsed": false
   },
   "outputs": [
    {
     "data": {
      "image/png": "[encoded data removed]",
      "text/plain": [
       "<matplotlib.figure.Figure at 0x7fa8c4b8ec88>"
      ]
     },
     "metadata": {},
     "output_type": "display_data"
    }
   ],
   "source": [
    "X, y = mglearn.datasets.make_wave(n_samples = 40)\n",
    "plt.plot(X, y, 'o')\n",
    "plt.ylim(-3, 3)\n",
    "plt.xlabel(\"feature(특성)\")\n",
    "plt.ylabel(\"target(타깃)\");"
   ]
  },
  {
   "cell_type": "markdown",
   "metadata": {},
   "source": [
    "종이는 2차원이라 둘이 넘는 특성을 표현하기 어려우니 손쉽게 시각화하기 위해서 간단한 저차원 dataset을 사용하겠습니다.  \n",
    "featrue가 적은 dataset(**저차원 dataset**)에서 얻은 직관이 feature가 많은 dataset(**고차원 dataset**)에서 그대로 유지되지 않을 수 있습니다.  \n",
    "하지만 이런 사실을 유념해둔다면 algorithm을 배울 때 저차원 dataset을 사용하는 것이 매우 좋습니다.  \n",
    "\n",
    "\n",
    "인위적인 소규모 dataset외에 scikit-learn에 들어 있는 실제 dataset도 두 개를 사용하겠습니다.  \n",
    "하나는 유방암 종양의 임상 데이터를 기록해놓은 위스콘신 유방암(Wisconsin Breast Cancer) dataset입니다(줄여서 cancer라고 하겠습니다).  \n",
    "각 종양은 양성(benign, 해롭지 않은 종양)과 악성(malignant, 암종양)으로 label되어 있고, 조직 data를 기반으로 종양이 악성인지 양성인지를 예측할 수 있도록 학습하는 것이 과제입니다.  \n",
    "이 data는 scikit-learn에 있는 load_breast_cancer 함수를 사용하여 불러올 수 있습니다."
   ]
  },
  {
   "cell_type": "code",
   "execution_count": 25,
   "metadata": {
    "collapsed": false
   },
   "outputs": [
    {
     "name": "stdout",
     "output_type": "stream",
     "text": [
      "cancer.keys() : \n",
      "dict_keys(['data', 'target', 'target_names', 'DESCR', 'feature_names'])\n"
     ]
    }
   ],
   "source": [
    "from sklearn.datasets import load_breast_cancer\n",
    "cancer = load_breast_cancer()\n",
    "print(\"cancer.keys() : \\n{}\".format(cancer.keys()))"
   ]
  },
  {
   "cell_type": "markdown",
   "metadata": {},
   "source": [
    "이 dataset은 569개의 data point를 가지고 있고 feature는 30개입니다."
   ]
  },
  {
   "cell_type": "code",
   "execution_count": 26,
   "metadata": {
    "collapsed": false
   },
   "outputs": [
    {
     "name": "stdout",
     "output_type": "stream",
     "text": [
      "유방암 data의 형태 : (569, 30)\n"
     ]
    }
   ],
   "source": [
    "print(\"유방암 data의 형태 : {}\".format(cancer.data.shape))"
   ]
  },
  {
   "cell_type": "markdown",
   "metadata": {},
   "source": [
    "569개 data point 중 212개는 악성이고 357개는 양성입니다."
   ]
  },
  {
   "cell_type": "code",
   "execution_count": 27,
   "metadata": {
    "collapsed": false
   },
   "outputs": [
    {
     "name": "stdout",
     "output_type": "stream",
     "text": [
      "class별 sample 개수 : \n",
      "{'malignant': 212, 'benign': 357}\n"
     ]
    }
   ],
   "source": [
    "print(\"class별 sample 개수 : \\n{}\".format({n: v for n, v in zip(cancer.target_names, np.bincount(cancer.target))}))"
   ]
  },
  {
   "cell_type": "markdown",
   "metadata": {},
   "source": [
    "feature_name 속성을 확인하면 각 feature(특성)의 의미를 알 수 있습니다."
   ]
  },
  {
   "cell_type": "code",
   "execution_count": 28,
   "metadata": {
    "collapsed": false
   },
   "outputs": [
    {
     "name": "stdout",
     "output_type": "stream",
     "text": [
      "특성 이름 : \n",
      "['mean radius' 'mean texture' 'mean perimeter' 'mean area'\n",
      " 'mean smoothness' 'mean compactness' 'mean concavity'\n",
      " 'mean concave points' 'mean symmetry' 'mean fractal dimension'\n",
      " 'radius error' 'texture error' 'perimeter error' 'area error'\n",
      " 'smoothness error' 'compactness error' 'concavity error'\n",
      " 'concave points error' 'symmetry error' 'fractal dimension error'\n",
      " 'worst radius' 'worst texture' 'worst perimeter' 'worst area'\n",
      " 'worst smoothness' 'worst compactness' 'worst concavity'\n",
      " 'worst concave points' 'worst symmetry' 'worst fractal dimension']\n"
     ]
    }
   ],
   "source": [
    "print(\"특성 이름 : \\n{}\".format(cancer.feature_names))"
   ]
  },
  {
   "cell_type": "code",
   "execution_count": null,
   "metadata": {
    "collapsed": true
   },
   "outputs": [],
   "source": []
  }
 ],
 "metadata": {
  "kernelspec": {
   "display_name": "Python 3",
   "language": "python",
   "name": "python3"
  },
  "language_info": {
   "codemirror_mode": {
    "name": "ipython",
    "version": 3
   },
   "file_extension": ".py",
   "mimetype": "text/x-python",
   "name": "python",
   "nbconvert_exporter": "python",
   "pygments_lexer": "ipython3",
   "version": "3.6.0"
  }
 },
 "nbformat": 4,
 "nbformat_minor": 2
}
