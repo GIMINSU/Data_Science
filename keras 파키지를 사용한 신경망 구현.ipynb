{
 "cells": [
  {
   "cell_type": "code",
   "execution_count": 67,
   "metadata": {
    "collapsed": false
   },
   "outputs": [],
   "source": [
    "%matplotlib inline\n",
    "# DATASET 적재\n",
    "from sklearn.datasets import fetch_olivetti_faces\n",
    "olivetti = fetch_olivetti_faces()"
   ]
  },
  {
   "cell_type": "code",
   "execution_count": 2,
   "metadata": {
    "collapsed": false
   },
   "outputs": [
    {
     "name": "stdout",
     "output_type": "stream",
     "text": [
      "olivetti의 키 : \n",
      "dict_keys(['data', 'images', 'target', 'DESCR'])\n"
     ]
    }
   ],
   "source": [
    "# DATASET의 KEY 확인\n",
    "print(\"olivetti의 키 : \\n{}\".format(olivetti.keys()))"
   ]
  },
  {
   "cell_type": "code",
   "execution_count": 3,
   "metadata": {
    "collapsed": false
   },
   "outputs": [
    {
     "name": "stdout",
     "output_type": "stream",
     "text": [
      "Modified Olivetti faces dataset.\n",
      "\n",
      "The original database was available from\n",
      "\n",
      "    http://www.cl.cam.ac.uk/research/dtg/attarchive/facedatabase.html\n",
      "\n",
      "The version retrieved here comes in MATLAB for\n",
      "...\n"
     ]
    }
   ],
   "source": [
    "# sklearn의 DESCR 키에는 DATASET에 대한 간략한 설명이 들어 있음\n",
    "print(olivetti['DESCR'][:193] + \"\\n...\")"
   ]
  },
  {
   "cell_type": "code",
   "execution_count": 4,
   "metadata": {
    "collapsed": false
   },
   "outputs": [
    {
     "name": "stdout",
     "output_type": "stream",
     "text": [
      "data의 타입 : <class 'numpy.ndarray'>\n"
     ]
    }
   ],
   "source": [
    "print(\"data의 타입 : {}\".format(type(olivetti['data'])))"
   ]
  },
  {
   "cell_type": "code",
   "execution_count": 5,
   "metadata": {
    "collapsed": false
   },
   "outputs": [
    {
     "name": "stdout",
     "output_type": "stream",
     "text": [
      "data의 타입 : <class 'numpy.ndarray'>\n"
     ]
    }
   ],
   "source": [
    "print(\"data의 타입 : {}\".format(type(olivetti['images'])))"
   ]
  },
  {
   "cell_type": "code",
   "execution_count": 6,
   "metadata": {
    "collapsed": false
   },
   "outputs": [
    {
     "name": "stdout",
     "output_type": "stream",
     "text": [
      "data의 크기: (400, 4096)\n"
     ]
    }
   ],
   "source": [
    "print(\"data의 크기: {}\".format(olivetti['data'].shape))"
   ]
  },
  {
   "cell_type": "code",
   "execution_count": 7,
   "metadata": {
    "collapsed": false
   },
   "outputs": [
    {
     "name": "stdout",
     "output_type": "stream",
     "text": [
      "data의 크기: (400, 64, 64)\n"
     ]
    }
   ],
   "source": [
    "print(\"data의 크기: {}\".format(olivetti['images'].shape))"
   ]
  },
  {
   "cell_type": "code",
   "execution_count": 8,
   "metadata": {
    "collapsed": false
   },
   "outputs": [
    {
     "name": "stdout",
     "output_type": "stream",
     "text": [
      "data의 처음 다섯 행:\n",
      "[[ 0.30991736  0.36776859  0.41735536 ...,  0.15289256  0.16115703\n",
      "   0.1570248 ]\n",
      " [ 0.45454547  0.47107437  0.51239669 ...,  0.15289256  0.15289256\n",
      "   0.15289256]\n",
      " [ 0.31818181  0.40082645  0.49173555 ...,  0.14049587  0.14876033\n",
      "   0.15289256]\n",
      " [ 0.19834711  0.19421488  0.19421488 ...,  0.75206614  0.75206614\n",
      "   0.73966944]\n",
      " [ 0.5         0.54545456  0.58264464 ...,  0.17768595  0.17355372\n",
      "   0.17355372]]\n"
     ]
    }
   ],
   "source": [
    "print(\"data의 처음 다섯 행:\\n{}\".format(olivetti['data'][:5]))"
   ]
  },
  {
   "cell_type": "code",
   "execution_count": 9,
   "metadata": {
    "collapsed": false
   },
   "outputs": [
    {
     "name": "stdout",
     "output_type": "stream",
     "text": [
      "images의 처음 다섯 행:\n",
      "[[[ 0.30991736  0.36776859  0.41735536 ...,  0.37190083  0.33057851\n",
      "    0.30578512]\n",
      "  [ 0.3429752   0.40495867  0.43801653 ...,  0.37190083  0.33884299\n",
      "    0.3140496 ]\n",
      "  [ 0.3429752   0.41735536  0.45041323 ...,  0.38016528  0.33884299\n",
      "    0.29752067]\n",
      "  ..., \n",
      "  [ 0.21487603  0.20661157  0.22314049 ...,  0.15289256  0.16528925\n",
      "    0.17355372]\n",
      "  [ 0.20247933  0.2107438   0.2107438  ...,  0.14876033  0.16115703\n",
      "    0.16528925]\n",
      "  [ 0.20247933  0.20661157  0.20247933 ...,  0.15289256  0.16115703\n",
      "    0.1570248 ]]\n",
      "\n",
      " [[ 0.45454547  0.47107437  0.51239669 ...,  0.19008264  0.18595041\n",
      "    0.18595041]\n",
      "  [ 0.44628099  0.48347107  0.52066118 ...,  0.21487603  0.2107438\n",
      "    0.2107438 ]\n",
      "  [ 0.49586776  0.5165289   0.53305787 ...,  0.20247933  0.20661157\n",
      "    0.20661157]\n",
      "  ..., \n",
      "  [ 0.77272725  0.78099173  0.79338843 ...,  0.14462809  0.14462809\n",
      "    0.14462809]\n",
      "  [ 0.77272725  0.77685952  0.78925622 ...,  0.13636364  0.13636364\n",
      "    0.13636364]\n",
      "  [ 0.76446283  0.78925622  0.78099173 ...,  0.15289256  0.15289256\n",
      "    0.15289256]]\n",
      "\n",
      " [[ 0.31818181  0.40082645  0.49173555 ...,  0.40082645  0.35537189\n",
      "    0.30991736]\n",
      "  [ 0.30991736  0.39669421  0.47933885 ...,  0.40495867  0.37603307\n",
      "    0.30165288]\n",
      "  [ 0.26859504  0.34710744  0.45454547 ...,  0.39669421  0.37190083\n",
      "    0.30991736]\n",
      "  ..., \n",
      "  [ 0.1322314   0.09917355  0.08264463 ...,  0.13636364  0.14876033\n",
      "    0.15289256]\n",
      "  [ 0.11570248  0.09504132  0.0785124  ...,  0.14462809  0.14462809\n",
      "    0.1570248 ]\n",
      "  [ 0.11157025  0.09090909  0.0785124  ...,  0.14049587  0.14876033\n",
      "    0.15289256]]\n",
      "\n",
      " [[ 0.19834711  0.19421488  0.19421488 ...,  0.58264464  0.51239669\n",
      "    0.45867768]\n",
      "  [ 0.21900827  0.21900827  0.21487603 ...,  0.56611568  0.51239669\n",
      "    0.45041323]\n",
      "  [ 0.23966943  0.23966943  0.23966943 ...,  0.59090906  0.5         0.46280992]\n",
      "  ..., \n",
      "  [ 0.13636364  0.14049587  0.16115703 ...,  0.76033056  0.76446283\n",
      "    0.73553717]\n",
      "  [ 0.14876033  0.14876033  0.14876033 ...,  0.76033056  0.75619835\n",
      "    0.74380165]\n",
      "  [ 0.14876033  0.14876033  0.14876033 ...,  0.75206614  0.75206614\n",
      "    0.73966944]]\n",
      "\n",
      " [[ 0.5         0.54545456  0.58264464 ...,  0.22314049  0.22314049\n",
      "    0.22314049]\n",
      "  [ 0.47933885  0.51239669  0.58264464 ...,  0.20247933  0.20247933\n",
      "    0.20247933]\n",
      "  [ 0.49173555  0.54132229  0.59504133 ...,  0.21487603  0.21487603\n",
      "    0.21487603]\n",
      "  ..., \n",
      "  [ 0.47520661  0.41735536  0.40082645 ...,  0.19421488  0.19421488\n",
      "    0.19421488]\n",
      "  [ 0.47520661  0.44214877  0.41735536 ...,  0.16528925  0.16528925\n",
      "    0.16528925]\n",
      "  [ 0.48760331  0.44628099  0.43388429 ...,  0.17768595  0.17355372\n",
      "    0.17355372]]]\n"
     ]
    }
   ],
   "source": [
    "print(\"images의 처음 다섯 행:\\n{}\".format(olivetti['images'][:5]))"
   ]
  },
  {
   "cell_type": "code",
   "execution_count": 10,
   "metadata": {
    "collapsed": false
   },
   "outputs": [
    {
     "name": "stdout",
     "output_type": "stream",
     "text": [
      "타깃:\n",
      "[ 0  0  0  0  0  0  0  0  0  0  1  1  1  1  1  1  1  1  1  1  2  2  2  2  2\n",
      "  2  2  2  2  2  3  3  3  3  3  3  3  3  3  3  4  4  4  4  4  4  4  4  4  4\n",
      "  5  5  5  5  5  5  5  5  5  5  6  6  6  6  6  6  6  6  6  6  7  7  7  7  7\n",
      "  7  7  7  7  7  8  8  8  8  8  8  8  8  8  8  9  9  9  9  9  9  9  9  9  9\n",
      " 10 10 10 10 10 10 10 10 10 10 11 11 11 11 11 11 11 11 11 11 12 12 12 12 12\n",
      " 12 12 12 12 12 13 13 13 13 13 13 13 13 13 13 14 14 14 14 14 14 14 14 14 14\n",
      " 15 15 15 15 15 15 15 15 15 15 16 16 16 16 16 16 16 16 16 16 17 17 17 17 17\n",
      " 17 17 17 17 17 18 18 18 18 18 18 18 18 18 18 19 19 19 19 19 19 19 19 19 19\n",
      " 20 20 20 20 20 20 20 20 20 20 21 21 21 21 21 21 21 21 21 21 22 22 22 22 22\n",
      " 22 22 22 22 22 23 23 23 23 23 23 23 23 23 23 24 24 24 24 24 24 24 24 24 24\n",
      " 25 25 25 25 25 25 25 25 25 25 26 26 26 26 26 26 26 26 26 26 27 27 27 27 27\n",
      " 27 27 27 27 27 28 28 28 28 28 28 28 28 28 28 29 29 29 29 29 29 29 29 29 29\n",
      " 30 30 30 30 30 30 30 30 30 30 31 31 31 31 31 31 31 31 31 31 32 32 32 32 32\n",
      " 32 32 32 32 32 33 33 33 33 33 33 33 33 33 33 34 34 34 34 34 34 34 34 34 34\n",
      " 35 35 35 35 35 35 35 35 35 35 36 36 36 36 36 36 36 36 36 36 37 37 37 37 37\n",
      " 37 37 37 37 37 38 38 38 38 38 38 38 38 38 38 39 39 39 39 39 39 39 39 39 39]\n"
     ]
    }
   ],
   "source": [
    "print(\"타깃:\\n{}\".format(olivetti['target']))"
   ]
  },
  {
   "cell_type": "code",
   "execution_count": 11,
   "metadata": {
    "collapsed": true
   },
   "outputs": [],
   "source": [
    "from sklearn.model_selection import train_test_split"
   ]
  },
  {
   "cell_type": "code",
   "execution_count": 12,
   "metadata": {
    "collapsed": true
   },
   "outputs": [],
   "source": [
    "X_train0, X_test0, y_train0, y_test0 = train_test_split(\n",
    "olivetti['images'], olivetti['target'], random_state = 0)"
   ]
  },
  {
   "cell_type": "code",
   "execution_count": 13,
   "metadata": {
    "collapsed": false
   },
   "outputs": [
    {
     "name": "stdout",
     "output_type": "stream",
     "text": [
      "X_train0 크기 : (300, 64, 64)\n",
      "y_train0 크기 : (300,)\n"
     ]
    }
   ],
   "source": [
    "print(\"X_train0 크기 : {}\".format(X_train0.shape))\n",
    "print(\"y_train0 크기 : {}\".format(y_train0.shape))"
   ]
  },
  {
   "cell_type": "code",
   "execution_count": 14,
   "metadata": {
    "collapsed": false
   },
   "outputs": [
    {
     "name": "stdout",
     "output_type": "stream",
     "text": [
      "X_test0 크기 : (100, 64, 64)\n",
      "y_test0 크기 : (100,)\n"
     ]
    }
   ],
   "source": [
    "print(\"X_test0 크기 : {}\".format(X_test0.shape))\n",
    "print(\"y_test0 크기 : {}\".format(y_test0.shape))"
   ]
  },
  {
   "cell_type": "code",
   "execution_count": 16,
   "metadata": {
    "collapsed": false
   },
   "outputs": [
    {
     "data": {
      "image/png": "[encoded data removed]",
      "text/plain": [
       "<matplotlib.figure.Figure at 0x7fd1420e8ac8>"
      ]
     },
     "metadata": {},
     "output_type": "display_data"
    }
   ],
   "source": [
    "import matplotlib.pylab as plt\n",
    "plt.figure(figsize=(2, 2))\n",
    "plt.imshow(X_train0[0])\n",
    "plt.grid(False)\n",
    "plt.xticks([])\n",
    "plt.yticks([])\n",
    "plt.show()"
   ]
  },
  {
   "cell_type": "code",
   "execution_count": 17,
   "metadata": {
    "collapsed": false
   },
   "outputs": [
    {
     "data": {
      "text/plain": [
       "array([[ 0.61570245,  0.6859504 ,  0.71487606, ...,  0.5       ,\n",
       "         0.50826448,  0.50826448],\n",
       "       [ 0.60330576,  0.67355371,  0.70247936, ...,  0.5       ,\n",
       "         0.5       ,  0.49586776],\n",
       "       [ 0.56611568,  0.6280992 ,  0.69421488, ...,  0.5165289 ,\n",
       "         0.49586776,  0.47933885],\n",
       "       ..., \n",
       "       [ 0.23140496,  0.50826448,  0.49586776, ...,  0.09917355,\n",
       "         0.14876033,  0.18181819],\n",
       "       [ 0.29338843,  0.54132229,  0.50413221, ...,  0.10330579,\n",
       "         0.1570248 ,  0.18595041],\n",
       "       [ 0.34710744,  0.57024795,  0.51239669, ...,  0.11570248,\n",
       "         0.1570248 ,  0.18595041]], dtype=float32)"
      ]
     },
     "execution_count": 17,
     "metadata": {},
     "output_type": "execute_result"
    }
   ],
   "source": [
    "X_train0[0]"
   ]
  },
  {
   "cell_type": "code",
   "execution_count": 18,
   "metadata": {
    "collapsed": false
   },
   "outputs": [
    {
     "name": "stdout",
     "output_type": "stream",
     "text": [
      "(300, 4096) float32\n"
     ]
    }
   ],
   "source": [
    "X_train = X_train0.reshape(300, 4096).astype('float32')\n",
    "X_test = X_test0.reshape(100, 4096).astype('float32')\n",
    "print(X_train.shape, X_train.dtype)"
   ]
  },
  {
   "cell_type": "code",
   "execution_count": 28,
   "metadata": {
    "collapsed": false
   },
   "outputs": [
    {
     "data": {
      "text/plain": [
       "array([25,  6, 31, 15, 28])"
      ]
     },
     "execution_count": 28,
     "metadata": {},
     "output_type": "execute_result"
    }
   ],
   "source": [
    "y_train0[:5]"
   ]
  },
  {
   "cell_type": "code",
   "execution_count": 29,
   "metadata": {
    "collapsed": false,
    "scrolled": true
   },
   "outputs": [
    {
     "data": {
      "text/plain": [
       "array([[ 0.,  0.,  0.,  0.,  0.,  0.,  0.,  0.,  0.,  0.,  0.,  0.,  0.,\n",
       "         0.,  0.,  0.,  0.,  0.,  0.,  0.,  0.,  0.,  0.,  0.,  0.,  1.,\n",
       "         0.,  0.,  0.,  0.,  0.,  0.,  0.,  0.,  0.,  0.,  0.,  0.,  0.,\n",
       "         0.],\n",
       "       [ 0.,  0.,  0.,  0.,  0.,  0.,  1.,  0.,  0.,  0.,  0.,  0.,  0.,\n",
       "         0.,  0.,  0.,  0.,  0.,  0.,  0.,  0.,  0.,  0.,  0.,  0.,  0.,\n",
       "         0.,  0.,  0.,  0.,  0.,  0.,  0.,  0.,  0.,  0.,  0.,  0.,  0.,\n",
       "         0.],\n",
       "       [ 0.,  0.,  0.,  0.,  0.,  0.,  0.,  0.,  0.,  0.,  0.,  0.,  0.,\n",
       "         0.,  0.,  0.,  0.,  0.,  0.,  0.,  0.,  0.,  0.,  0.,  0.,  0.,\n",
       "         0.,  0.,  0.,  0.,  0.,  1.,  0.,  0.,  0.,  0.,  0.,  0.,  0.,\n",
       "         0.],\n",
       "       [ 0.,  0.,  0.,  0.,  0.,  0.,  0.,  0.,  0.,  0.,  0.,  0.,  0.,\n",
       "         0.,  0.,  1.,  0.,  0.,  0.,  0.,  0.,  0.,  0.,  0.,  0.,  0.,\n",
       "         0.,  0.,  0.,  0.,  0.,  0.,  0.,  0.,  0.,  0.,  0.,  0.,  0.,\n",
       "         0.],\n",
       "       [ 0.,  0.,  0.,  0.,  0.,  0.,  0.,  0.,  0.,  0.,  0.,  0.,  0.,\n",
       "         0.,  0.,  0.,  0.,  0.,  0.,  0.,  0.,  0.,  0.,  0.,  0.,  0.,\n",
       "         0.,  0.,  1.,  0.,  0.,  0.,  0.,  0.,  0.,  0.,  0.,  0.,  0.,\n",
       "         0.]])"
      ]
     },
     "execution_count": 29,
     "metadata": {},
     "output_type": "execute_result"
    }
   ],
   "source": [
    "from keras.utils import np_utils\n",
    "\n",
    "Y_train = np_utils.to_categorical(y_train0, 40)\n",
    "Y_test = np_utils.to_categorical(y_test0, 40)\n",
    "Y_train[:5]"
   ]
  },
  {
   "cell_type": "code",
   "execution_count": 49,
   "metadata": {
    "collapsed": false
   },
   "outputs": [],
   "source": [
    "Dense??"
   ]
  },
  {
   "cell_type": "code",
   "execution_count": 76,
   "metadata": {
    "collapsed": false
   },
   "outputs": [],
   "source": [
    "from keras.models import Sequential\n",
    "from keras.layers.core import Dense\n",
    "from keras.optimizers import SGD\n",
    "import numpy as np\n",
    "np.random.seed(0)\n",
    "\n",
    "model = Sequential()\n",
    "model.add(Dense(40, input_dim=4096, activation=\"sigmoid\"))\n",
    "model.add(Dense(40, activation=\"sigmoid\"))\n",
    "model.compile(optimizer=SGD(lr=0.01), loss='mean_squared_error', metrics=[\"accuracy\"])"
   ]
  },
  {
   "cell_type": "code",
   "execution_count": 77,
   "metadata": {
    "collapsed": false
   },
   "outputs": [
    {
     "ename": "ImportError",
     "evalue": "Failed to import pydot. You must install pydot and graphviz for `pydotprint` to work.",
     "output_type": "error",
     "traceback": [
      "\u001b[0;31m---------------------------------------------------------------------------\u001b[0m",
      "\u001b[0;31mAttributeError\u001b[0m                            Traceback (most recent call last)",
      "\u001b[0;32m/home/is/anaconda3/lib/python3.6/site-packages/keras/utils/vis_utils.py\u001b[0m in \u001b[0;36m_check_pydot\u001b[0;34m()\u001b[0m\n\u001b[1;32m     22\u001b[0m         \u001b[0;31m# to check the pydot/graphviz installation.\u001b[0m\u001b[0;34m\u001b[0m\u001b[0;34m\u001b[0m\u001b[0m\n\u001b[0;32m---> 23\u001b[0;31m         \u001b[0mpydot\u001b[0m\u001b[0;34m.\u001b[0m\u001b[0mDot\u001b[0m\u001b[0;34m.\u001b[0m\u001b[0mcreate\u001b[0m\u001b[0;34m(\u001b[0m\u001b[0mpydot\u001b[0m\u001b[0;34m.\u001b[0m\u001b[0mDot\u001b[0m\u001b[0;34m(\u001b[0m\u001b[0;34m)\u001b[0m\u001b[0;34m)\u001b[0m\u001b[0;34m\u001b[0m\u001b[0m\n\u001b[0m\u001b[1;32m     24\u001b[0m     \u001b[0;32mexcept\u001b[0m \u001b[0mException\u001b[0m\u001b[0;34m:\u001b[0m\u001b[0;34m\u001b[0m\u001b[0m\n",
      "\u001b[0;31mAttributeError\u001b[0m: 'NoneType' object has no attribute 'Dot'",
      "\nDuring handling of the above exception, another exception occurred:\n",
      "\u001b[0;31mImportError\u001b[0m                               Traceback (most recent call last)",
      "\u001b[0;32m<ipython-input-77-18020722eab8>\u001b[0m in \u001b[0;36m<module>\u001b[0;34m()\u001b[0m\n\u001b[1;32m      2\u001b[0m \u001b[0;32mfrom\u001b[0m \u001b[0mkeras\u001b[0m\u001b[0;34m.\u001b[0m\u001b[0mutils\u001b[0m\u001b[0;34m.\u001b[0m\u001b[0mvis_utils\u001b[0m \u001b[0;32mimport\u001b[0m \u001b[0mmodel_to_dot\u001b[0m\u001b[0;34m\u001b[0m\u001b[0m\n\u001b[1;32m      3\u001b[0m \u001b[0;34m\u001b[0m\u001b[0m\n\u001b[0;32m----> 4\u001b[0;31m \u001b[0mSVG\u001b[0m\u001b[0;34m(\u001b[0m\u001b[0mmodel_to_dot\u001b[0m\u001b[0;34m(\u001b[0m\u001b[0mmodel\u001b[0m\u001b[0;34m)\u001b[0m\u001b[0;34m.\u001b[0m\u001b[0mcreate\u001b[0m\u001b[0;34m(\u001b[0m\u001b[0mprog\u001b[0m\u001b[0;34m=\u001b[0m\u001b[0;34m'dot'\u001b[0m\u001b[0;34m,\u001b[0m \u001b[0mformat\u001b[0m\u001b[0;34m=\u001b[0m\u001b[0;34m'svg'\u001b[0m\u001b[0;34m)\u001b[0m\u001b[0;34m)\u001b[0m\u001b[0;34m\u001b[0m\u001b[0m\n\u001b[0m",
      "\u001b[0;32m/home/is/anaconda3/lib/python3.6/site-packages/keras/utils/vis_utils.py\u001b[0m in \u001b[0;36mmodel_to_dot\u001b[0;34m(model, show_shapes, show_layer_names, rankdir)\u001b[0m\n\u001b[1;32m     50\u001b[0m     \u001b[0;32mfrom\u001b[0m \u001b[0;34m.\u001b[0m\u001b[0;34m.\u001b[0m\u001b[0mmodels\u001b[0m \u001b[0;32mimport\u001b[0m \u001b[0mSequential\u001b[0m\u001b[0;34m\u001b[0m\u001b[0m\n\u001b[1;32m     51\u001b[0m \u001b[0;34m\u001b[0m\u001b[0m\n\u001b[0;32m---> 52\u001b[0;31m     \u001b[0m_check_pydot\u001b[0m\u001b[0;34m(\u001b[0m\u001b[0;34m)\u001b[0m\u001b[0;34m\u001b[0m\u001b[0m\n\u001b[0m\u001b[1;32m     53\u001b[0m     \u001b[0mdot\u001b[0m \u001b[0;34m=\u001b[0m \u001b[0mpydot\u001b[0m\u001b[0;34m.\u001b[0m\u001b[0mDot\u001b[0m\u001b[0;34m(\u001b[0m\u001b[0;34m)\u001b[0m\u001b[0;34m\u001b[0m\u001b[0m\n\u001b[1;32m     54\u001b[0m     \u001b[0mdot\u001b[0m\u001b[0;34m.\u001b[0m\u001b[0mset\u001b[0m\u001b[0;34m(\u001b[0m\u001b[0;34m'rankdir'\u001b[0m\u001b[0;34m,\u001b[0m \u001b[0mrankdir\u001b[0m\u001b[0;34m)\u001b[0m\u001b[0;34m\u001b[0m\u001b[0m\n",
      "\u001b[0;32m/home/is/anaconda3/lib/python3.6/site-packages/keras/utils/vis_utils.py\u001b[0m in \u001b[0;36m_check_pydot\u001b[0;34m()\u001b[0m\n\u001b[1;32m     25\u001b[0m         \u001b[0;31m# pydot raises a generic Exception here,\u001b[0m\u001b[0;34m\u001b[0m\u001b[0;34m\u001b[0m\u001b[0m\n\u001b[1;32m     26\u001b[0m         \u001b[0;31m# so no specific class can be caught.\u001b[0m\u001b[0;34m\u001b[0m\u001b[0;34m\u001b[0m\u001b[0m\n\u001b[0;32m---> 27\u001b[0;31m         raise ImportError('Failed to import pydot. You must install pydot'\n\u001b[0m\u001b[1;32m     28\u001b[0m                           ' and graphviz for `pydotprint` to work.')\n\u001b[1;32m     29\u001b[0m \u001b[0;34m\u001b[0m\u001b[0m\n",
      "\u001b[0;31mImportError\u001b[0m: Failed to import pydot. You must install pydot and graphviz for `pydotprint` to work."
     ]
    }
   ],
   "source": [
    "from IPython.display import SVG\n",
    "from keras.utils.vis_utils import model_to_dot\n",
    "\n",
    "SVG(model_to_dot(model).create(prog='dot', format='svg'))"
   ]
  },
  {
   "cell_type": "code",
   "execution_count": 78,
   "metadata": {
    "collapsed": false
   },
   "outputs": [
    {
     "data": {
      "text/plain": [
       "[<keras.layers.core.Dense at 0x7fd141ddeda0>,\n",
       " <keras.layers.core.Dense at 0x7fd12b131908>]"
      ]
     },
     "execution_count": 78,
     "metadata": {},
     "output_type": "execute_result"
    }
   ],
   "source": [
    "model.layers"
   ]
  },
  {
   "cell_type": "code",
   "execution_count": 79,
   "metadata": {
    "collapsed": true
   },
   "outputs": [],
   "source": [
    "l1 = model.layers[0]\n",
    "l2 = model.layers[1]"
   ]
  },
  {
   "cell_type": "code",
   "execution_count": 80,
   "metadata": {
    "collapsed": false
   },
   "outputs": [
    {
     "data": {
      "text/plain": [
       "'dense_11'"
      ]
     },
     "execution_count": 80,
     "metadata": {},
     "output_type": "execute_result"
    }
   ],
   "source": [
    "l1.name"
   ]
  },
  {
   "cell_type": "code",
   "execution_count": 81,
   "metadata": {
    "collapsed": false
   },
   "outputs": [
    {
     "data": {
      "text/plain": [
       "(None, 4096)"
      ]
     },
     "execution_count": 81,
     "metadata": {},
     "output_type": "execute_result"
    }
   ],
   "source": [
    "l1.input_shape"
   ]
  },
  {
   "cell_type": "code",
   "execution_count": 82,
   "metadata": {
    "collapsed": false
   },
   "outputs": [
    {
     "data": {
      "text/plain": [
       "(None, 40)"
      ]
     },
     "execution_count": 82,
     "metadata": {},
     "output_type": "execute_result"
    }
   ],
   "source": [
    "l1.output_shape"
   ]
  },
  {
   "cell_type": "code",
   "execution_count": 83,
   "metadata": {
    "collapsed": false
   },
   "outputs": [
    {
     "data": {
      "text/plain": [
       "<function keras.activations.sigmoid>"
      ]
     },
     "execution_count": 83,
     "metadata": {},
     "output_type": "execute_result"
    }
   ],
   "source": [
    "l1.activation"
   ]
  },
  {
   "cell_type": "code",
   "execution_count": 84,
   "metadata": {
    "collapsed": false
   },
   "outputs": [
    {
     "data": {
      "text/plain": [
       "'dense_12'"
      ]
     },
     "execution_count": 84,
     "metadata": {},
     "output_type": "execute_result"
    }
   ],
   "source": [
    "l2.name"
   ]
  },
  {
   "cell_type": "code",
   "execution_count": 85,
   "metadata": {
    "collapsed": false
   },
   "outputs": [
    {
     "data": {
      "text/plain": [
       "(None, 40)"
      ]
     },
     "execution_count": 85,
     "metadata": {},
     "output_type": "execute_result"
    }
   ],
   "source": [
    "l2.input_shape"
   ]
  },
  {
   "cell_type": "code",
   "execution_count": 86,
   "metadata": {
    "collapsed": false
   },
   "outputs": [
    {
     "data": {
      "text/plain": [
       "(None, 40)"
      ]
     },
     "execution_count": 86,
     "metadata": {},
     "output_type": "execute_result"
    }
   ],
   "source": [
    "l2.output_shape"
   ]
  },
  {
   "cell_type": "code",
   "execution_count": 87,
   "metadata": {
    "collapsed": false
   },
   "outputs": [
    {
     "data": {
      "text/plain": [
       "<function keras.activations.sigmoid>"
      ]
     },
     "execution_count": 87,
     "metadata": {},
     "output_type": "execute_result"
    }
   ],
   "source": [
    "l2.activation"
   ]
  },
  {
   "cell_type": "code",
   "execution_count": 88,
   "metadata": {
    "collapsed": false,
    "scrolled": true
   },
   "outputs": [
    {
     "name": "stdout",
     "output_type": "stream",
     "text": [
      "Train on 300 samples, validate on 100 samples\n",
      "Epoch 1/300\n",
      " - 0s - loss: 0.2579 - acc: 0.0433 - val_loss: 0.2581 - val_acc: 0.0200\n",
      "Epoch 2/300\n",
      " - 0s - loss: 0.2557 - acc: 0.0467 - val_loss: 0.2559 - val_acc: 0.0200\n",
      "Epoch 3/300\n",
      " - 0s - loss: 0.2535 - acc: 0.0500 - val_loss: 0.2537 - val_acc: 0.0200\n",
      "Epoch 4/300\n",
      " - 0s - loss: 0.2514 - acc: 0.0500 - val_loss: 0.2517 - val_acc: 0.0100\n",
      "Epoch 5/300\n",
      " - 0s - loss: 0.2493 - acc: 0.0433 - val_loss: 0.2496 - val_acc: 0.0100\n",
      "Epoch 6/300\n",
      " - 0s - loss: 0.2473 - acc: 0.0433 - val_loss: 0.2477 - val_acc: 0.0100\n",
      "Epoch 7/300\n",
      " - 0s - loss: 0.2454 - acc: 0.0433 - val_loss: 0.2458 - val_acc: 0.0100\n",
      "Epoch 8/300\n",
      " - 0s - loss: 0.2435 - acc: 0.0433 - val_loss: 0.2439 - val_acc: 0.0100\n",
      "Epoch 9/300\n",
      " - 0s - loss: 0.2417 - acc: 0.0400 - val_loss: 0.2421 - val_acc: 0.0100\n",
      "Epoch 10/300\n",
      " - 0s - loss: 0.2399 - acc: 0.0400 - val_loss: 0.2404 - val_acc: 0.0100\n",
      "Epoch 11/300\n",
      " - 0s - loss: 0.2382 - acc: 0.0400 - val_loss: 0.2387 - val_acc: 0.0100\n",
      "Epoch 12/300\n",
      " - 0s - loss: 0.2365 - acc: 0.0367 - val_loss: 0.2371 - val_acc: 0.0000e+00\n",
      "Epoch 13/300\n",
      " - 0s - loss: 0.2349 - acc: 0.0333 - val_loss: 0.2355 - val_acc: 0.0000e+00\n",
      "Epoch 14/300\n",
      " - 0s - loss: 0.2333 - acc: 0.0333 - val_loss: 0.2339 - val_acc: 0.0000e+00\n",
      "Epoch 15/300\n",
      " - 0s - loss: 0.2318 - acc: 0.0333 - val_loss: 0.2324 - val_acc: 0.0000e+00\n",
      "Epoch 16/300\n",
      " - 0s - loss: 0.2303 - acc: 0.0333 - val_loss: 0.2309 - val_acc: 0.0000e+00\n",
      "Epoch 17/300\n",
      " - 0s - loss: 0.2288 - acc: 0.0333 - val_loss: 0.2294 - val_acc: 0.0000e+00\n",
      "Epoch 18/300\n",
      " - 0s - loss: 0.2273 - acc: 0.0333 - val_loss: 0.2280 - val_acc: 0.0000e+00\n",
      "Epoch 19/300\n",
      " - 0s - loss: 0.2259 - acc: 0.0333 - val_loss: 0.2266 - val_acc: 0.0000e+00\n",
      "Epoch 20/300\n",
      " - 0s - loss: 0.2245 - acc: 0.0333 - val_loss: 0.2252 - val_acc: 0.0000e+00\n",
      "Epoch 21/300\n",
      " - 0s - loss: 0.2232 - acc: 0.0333 - val_loss: 0.2239 - val_acc: 0.0000e+00\n",
      "Epoch 22/300\n",
      " - 0s - loss: 0.2218 - acc: 0.0333 - val_loss: 0.2225 - val_acc: 0.0000e+00\n",
      "Epoch 23/300\n",
      " - 0s - loss: 0.2205 - acc: 0.0333 - val_loss: 0.2212 - val_acc: 0.0000e+00\n",
      "Epoch 24/300\n",
      " - 0s - loss: 0.2192 - acc: 0.0333 - val_loss: 0.2199 - val_acc: 0.0000e+00\n",
      "Epoch 25/300\n",
      " - 0s - loss: 0.2179 - acc: 0.0333 - val_loss: 0.2187 - val_acc: 0.0000e+00\n",
      "Epoch 26/300\n",
      " - 0s - loss: 0.2167 - acc: 0.0333 - val_loss: 0.2174 - val_acc: 0.0000e+00\n",
      "Epoch 27/300\n",
      " - 0s - loss: 0.2155 - acc: 0.0333 - val_loss: 0.2162 - val_acc: 0.0000e+00\n",
      "Epoch 28/300\n",
      " - 0s - loss: 0.2143 - acc: 0.0333 - val_loss: 0.2150 - val_acc: 0.0000e+00\n",
      "Epoch 29/300\n",
      " - 0s - loss: 0.2131 - acc: 0.0333 - val_loss: 0.2138 - val_acc: 0.0000e+00\n",
      "Epoch 30/300\n",
      " - 0s - loss: 0.2119 - acc: 0.0333 - val_loss: 0.2127 - val_acc: 0.0000e+00\n",
      "Epoch 31/300\n",
      " - 0s - loss: 0.2108 - acc: 0.0333 - val_loss: 0.2115 - val_acc: 0.0000e+00\n",
      "Epoch 32/300\n",
      " - 0s - loss: 0.2096 - acc: 0.0333 - val_loss: 0.2104 - val_acc: 0.0000e+00\n",
      "Epoch 33/300\n",
      " - 0s - loss: 0.2085 - acc: 0.0333 - val_loss: 0.2093 - val_acc: 0.0000e+00\n",
      "Epoch 34/300\n",
      " - 0s - loss: 0.2075 - acc: 0.0333 - val_loss: 0.2083 - val_acc: 0.0000e+00\n",
      "Epoch 35/300\n",
      " - 0s - loss: 0.2064 - acc: 0.0333 - val_loss: 0.2072 - val_acc: 0.0000e+00\n",
      "Epoch 36/300\n",
      " - 0s - loss: 0.2054 - acc: 0.0333 - val_loss: 0.2062 - val_acc: 0.0000e+00\n",
      "Epoch 37/300\n",
      " - 0s - loss: 0.2044 - acc: 0.0333 - val_loss: 0.2052 - val_acc: 0.0000e+00\n",
      "Epoch 38/300\n",
      " - 0s - loss: 0.2034 - acc: 0.0333 - val_loss: 0.2043 - val_acc: 0.0000e+00\n",
      "Epoch 39/300\n",
      " - 0s - loss: 0.2024 - acc: 0.0333 - val_loss: 0.2033 - val_acc: 0.0000e+00\n",
      "Epoch 40/300\n",
      " - 0s - loss: 0.2015 - acc: 0.0333 - val_loss: 0.2024 - val_acc: 0.0000e+00\n",
      "Epoch 41/300\n",
      " - 0s - loss: 0.2006 - acc: 0.0333 - val_loss: 0.2015 - val_acc: 0.0000e+00\n",
      "Epoch 42/300\n",
      " - 0s - loss: 0.1997 - acc: 0.0333 - val_loss: 0.2006 - val_acc: 0.0000e+00\n",
      "Epoch 43/300\n",
      " - 0s - loss: 0.1988 - acc: 0.0333 - val_loss: 0.1998 - val_acc: 0.0000e+00\n",
      "Epoch 44/300\n",
      " - 0s - loss: 0.1980 - acc: 0.0333 - val_loss: 0.1989 - val_acc: 0.0000e+00\n",
      "Epoch 45/300\n",
      " - 0s - loss: 0.1972 - acc: 0.0333 - val_loss: 0.1981 - val_acc: 0.0000e+00\n",
      "Epoch 46/300\n",
      " - 0s - loss: 0.1964 - acc: 0.0333 - val_loss: 0.1973 - val_acc: 0.0000e+00\n",
      "Epoch 47/300\n",
      " - 0s - loss: 0.1956 - acc: 0.0333 - val_loss: 0.1965 - val_acc: 0.0000e+00\n",
      "Epoch 48/300\n",
      " - 0s - loss: 0.1948 - acc: 0.0333 - val_loss: 0.1958 - val_acc: 0.0000e+00\n",
      "Epoch 49/300\n",
      " - 0s - loss: 0.1940 - acc: 0.0333 - val_loss: 0.1950 - val_acc: 0.0000e+00\n",
      "Epoch 50/300\n",
      " - 0s - loss: 0.1933 - acc: 0.0333 - val_loss: 0.1943 - val_acc: 0.0000e+00\n",
      "Epoch 51/300\n",
      " - 0s - loss: 0.1926 - acc: 0.0333 - val_loss: 0.1936 - val_acc: 0.0000e+00\n",
      "Epoch 52/300\n",
      " - 0s - loss: 0.1918 - acc: 0.0333 - val_loss: 0.1929 - val_acc: 0.0000e+00\n",
      "Epoch 53/300\n",
      " - 0s - loss: 0.1911 - acc: 0.0333 - val_loss: 0.1922 - val_acc: 0.0000e+00\n",
      "Epoch 54/300\n",
      " - 0s - loss: 0.1904 - acc: 0.0333 - val_loss: 0.1915 - val_acc: 0.0000e+00\n",
      "Epoch 55/300\n",
      " - 0s - loss: 0.1898 - acc: 0.0333 - val_loss: 0.1908 - val_acc: 0.0000e+00\n",
      "Epoch 56/300\n",
      " - 0s - loss: 0.1891 - acc: 0.0333 - val_loss: 0.1901 - val_acc: 0.0000e+00\n",
      "Epoch 57/300\n",
      " - 0s - loss: 0.1884 - acc: 0.0333 - val_loss: 0.1895 - val_acc: 0.0000e+00\n",
      "Epoch 58/300\n",
      " - 0s - loss: 0.1878 - acc: 0.0333 - val_loss: 0.1889 - val_acc: 0.0000e+00\n",
      "Epoch 59/300\n",
      " - 0s - loss: 0.1871 - acc: 0.0333 - val_loss: 0.1882 - val_acc: 0.0000e+00\n",
      "Epoch 60/300\n",
      " - 0s - loss: 0.1865 - acc: 0.0333 - val_loss: 0.1876 - val_acc: 0.0000e+00\n",
      "Epoch 61/300\n",
      " - 0s - loss: 0.1859 - acc: 0.0333 - val_loss: 0.1870 - val_acc: 0.0000e+00\n",
      "Epoch 62/300\n",
      " - 0s - loss: 0.1853 - acc: 0.0333 - val_loss: 0.1864 - val_acc: 0.0000e+00\n",
      "Epoch 63/300\n",
      " - 0s - loss: 0.1847 - acc: 0.0333 - val_loss: 0.1858 - val_acc: 0.0000e+00\n",
      "Epoch 64/300\n",
      " - 0s - loss: 0.1841 - acc: 0.0333 - val_loss: 0.1852 - val_acc: 0.0000e+00\n",
      "Epoch 65/300\n",
      " - 0s - loss: 0.1835 - acc: 0.0333 - val_loss: 0.1846 - val_acc: 0.0000e+00\n",
      "Epoch 66/300\n",
      " - 0s - loss: 0.1829 - acc: 0.0333 - val_loss: 0.1840 - val_acc: 0.0000e+00\n",
      "Epoch 67/300\n",
      " - 0s - loss: 0.1823 - acc: 0.0333 - val_loss: 0.1834 - val_acc: 0.0000e+00\n",
      "Epoch 68/300\n",
      " - 0s - loss: 0.1817 - acc: 0.0333 - val_loss: 0.1829 - val_acc: 0.0000e+00\n",
      "Epoch 69/300\n",
      " - 0s - loss: 0.1812 - acc: 0.0333 - val_loss: 0.1823 - val_acc: 0.0000e+00\n",
      "Epoch 70/300\n",
      " - 0s - loss: 0.1806 - acc: 0.0333 - val_loss: 0.1818 - val_acc: 0.0000e+00\n",
      "Epoch 71/300\n",
      " - 0s - loss: 0.1801 - acc: 0.0333 - val_loss: 0.1812 - val_acc: 0.0000e+00\n",
      "Epoch 72/300\n",
      " - 0s - loss: 0.1795 - acc: 0.0333 - val_loss: 0.1807 - val_acc: 0.0000e+00\n",
      "Epoch 73/300\n",
      " - 0s - loss: 0.1790 - acc: 0.0333 - val_loss: 0.1801 - val_acc: 0.0000e+00\n",
      "Epoch 74/300\n",
      " - 0s - loss: 0.1784 - acc: 0.0333 - val_loss: 0.1796 - val_acc: 0.0000e+00\n",
      "Epoch 75/300\n",
      " - 0s - loss: 0.1779 - acc: 0.0333 - val_loss: 0.1791 - val_acc: 0.0000e+00\n",
      "Epoch 76/300\n",
      " - 0s - loss: 0.1774 - acc: 0.0333 - val_loss: 0.1785 - val_acc: 0.0000e+00\n",
      "Epoch 77/300\n",
      " - 0s - loss: 0.1768 - acc: 0.0333 - val_loss: 0.1780 - val_acc: 0.0000e+00\n",
      "Epoch 78/300\n",
      " - 0s - loss: 0.1763 - acc: 0.0333 - val_loss: 0.1775 - val_acc: 0.0000e+00\n",
      "Epoch 79/300\n",
      " - 0s - loss: 0.1758 - acc: 0.0333 - val_loss: 0.1770 - val_acc: 0.0000e+00\n",
      "Epoch 80/300\n",
      " - 0s - loss: 0.1753 - acc: 0.0333 - val_loss: 0.1765 - val_acc: 0.0000e+00\n",
      "Epoch 81/300\n",
      " - 0s - loss: 0.1748 - acc: 0.0333 - val_loss: 0.1760 - val_acc: 0.0000e+00\n",
      "Epoch 82/300\n",
      " - 0s - loss: 0.1743 - acc: 0.0333 - val_loss: 0.1755 - val_acc: 0.0000e+00\n",
      "Epoch 83/300\n",
      " - 0s - loss: 0.1738 - acc: 0.0333 - val_loss: 0.1750 - val_acc: 0.0000e+00\n",
      "Epoch 84/300\n",
      " - 0s - loss: 0.1733 - acc: 0.0333 - val_loss: 0.1745 - val_acc: 0.0000e+00\n",
      "Epoch 85/300\n",
      " - 0s - loss: 0.1728 - acc: 0.0333 - val_loss: 0.1740 - val_acc: 0.0000e+00\n",
      "Epoch 86/300\n",
      " - 0s - loss: 0.1723 - acc: 0.0333 - val_loss: 0.1735 - val_acc: 0.0000e+00\n",
      "Epoch 87/300\n",
      " - 0s - loss: 0.1718 - acc: 0.0333 - val_loss: 0.1730 - val_acc: 0.0000e+00\n",
      "Epoch 88/300\n",
      " - 0s - loss: 0.1713 - acc: 0.0333 - val_loss: 0.1725 - val_acc: 0.0000e+00\n",
      "Epoch 89/300\n",
      " - 0s - loss: 0.1708 - acc: 0.0333 - val_loss: 0.1721 - val_acc: 0.0000e+00\n",
      "Epoch 90/300\n",
      " - 0s - loss: 0.1703 - acc: 0.0333 - val_loss: 0.1716 - val_acc: 0.0000e+00\n",
      "Epoch 91/300\n",
      " - 0s - loss: 0.1699 - acc: 0.0333 - val_loss: 0.1711 - val_acc: 0.0000e+00\n",
      "Epoch 92/300\n",
      " - 0s - loss: 0.1694 - acc: 0.0333 - val_loss: 0.1706 - val_acc: 0.0000e+00\n",
      "Epoch 93/300\n",
      " - 0s - loss: 0.1689 - acc: 0.0333 - val_loss: 0.1702 - val_acc: 0.0000e+00\n",
      "Epoch 94/300\n",
      " - 0s - loss: 0.1685 - acc: 0.0333 - val_loss: 0.1697 - val_acc: 0.0000e+00\n",
      "Epoch 95/300\n",
      " - 0s - loss: 0.1680 - acc: 0.0333 - val_loss: 0.1692 - val_acc: 0.0000e+00\n",
      "Epoch 96/300\n",
      " - 0s - loss: 0.1675 - acc: 0.0333 - val_loss: 0.1688 - val_acc: 0.0000e+00\n",
      "Epoch 97/300\n",
      " - 0s - loss: 0.1671 - acc: 0.0333 - val_loss: 0.1683 - val_acc: 0.0000e+00\n",
      "Epoch 98/300\n",
      " - 0s - loss: 0.1666 - acc: 0.0333 - val_loss: 0.1679 - val_acc: 0.0000e+00\n",
      "Epoch 99/300\n",
      " - 0s - loss: 0.1662 - acc: 0.0333 - val_loss: 0.1674 - val_acc: 0.0000e+00\n",
      "Epoch 100/300\n",
      " - 0s - loss: 0.1657 - acc: 0.0333 - val_loss: 0.1670 - val_acc: 0.0000e+00\n",
      "Epoch 101/300\n",
      " - 0s - loss: 0.1652 - acc: 0.0333 - val_loss: 0.1665 - val_acc: 0.0000e+00\n",
      "Epoch 102/300\n",
      " - 0s - loss: 0.1648 - acc: 0.0333 - val_loss: 0.1661 - val_acc: 0.0000e+00\n",
      "Epoch 103/300\n",
      " - 0s - loss: 0.1644 - acc: 0.0333 - val_loss: 0.1656 - val_acc: 0.0000e+00\n",
      "Epoch 104/300\n",
      " - 0s - loss: 0.1639 - acc: 0.0333 - val_loss: 0.1652 - val_acc: 0.0000e+00\n",
      "Epoch 105/300\n",
      " - 0s - loss: 0.1635 - acc: 0.0333 - val_loss: 0.1647 - val_acc: 0.0000e+00\n",
      "Epoch 106/300\n",
      " - 0s - loss: 0.1630 - acc: 0.0333 - val_loss: 0.1643 - val_acc: 0.0000e+00\n",
      "Epoch 107/300\n",
      " - 0s - loss: 0.1626 - acc: 0.0333 - val_loss: 0.1639 - val_acc: 0.0000e+00\n",
      "Epoch 108/300\n",
      " - 0s - loss: 0.1621 - acc: 0.0333 - val_loss: 0.1634 - val_acc: 0.0000e+00\n",
      "Epoch 109/300\n",
      " - 0s - loss: 0.1617 - acc: 0.0333 - val_loss: 0.1630 - val_acc: 0.0000e+00\n",
      "Epoch 110/300\n",
      " - 0s - loss: 0.1613 - acc: 0.0333 - val_loss: 0.1626 - val_acc: 0.0000e+00\n",
      "Epoch 111/300\n",
      " - 0s - loss: 0.1608 - acc: 0.0333 - val_loss: 0.1621 - val_acc: 0.0000e+00\n",
      "Epoch 112/300\n",
      " - 0s - loss: 0.1604 - acc: 0.0333 - val_loss: 0.1617 - val_acc: 0.0000e+00\n",
      "Epoch 113/300\n",
      " - 0s - loss: 0.1600 - acc: 0.0333 - val_loss: 0.1613 - val_acc: 0.0000e+00\n",
      "Epoch 114/300\n",
      " - 0s - loss: 0.1596 - acc: 0.0333 - val_loss: 0.1608 - val_acc: 0.0000e+00\n",
      "Epoch 115/300\n",
      " - 0s - loss: 0.1591 - acc: 0.0333 - val_loss: 0.1604 - val_acc: 0.0000e+00\n",
      "Epoch 116/300\n",
      " - 0s - loss: 0.1587 - acc: 0.0333 - val_loss: 0.1600 - val_acc: 0.0000e+00\n",
      "Epoch 117/300\n",
      " - 0s - loss: 0.1583 - acc: 0.0333 - val_loss: 0.1596 - val_acc: 0.0000e+00\n",
      "Epoch 118/300\n",
      " - 0s - loss: 0.1579 - acc: 0.0333 - val_loss: 0.1592 - val_acc: 0.0000e+00\n",
      "Epoch 119/300\n",
      " - 0s - loss: 0.1575 - acc: 0.0333 - val_loss: 0.1587 - val_acc: 0.0000e+00\n",
      "Epoch 120/300\n",
      " - 0s - loss: 0.1570 - acc: 0.0333 - val_loss: 0.1583 - val_acc: 0.0000e+00\n",
      "Epoch 121/300\n",
      " - 0s - loss: 0.1566 - acc: 0.0333 - val_loss: 0.1579 - val_acc: 0.0000e+00\n",
      "Epoch 122/300\n",
      " - 0s - loss: 0.1562 - acc: 0.0333 - val_loss: 0.1575 - val_acc: 0.0000e+00\n",
      "Epoch 123/300\n",
      " - 0s - loss: 0.1558 - acc: 0.0333 - val_loss: 0.1571 - val_acc: 0.0000e+00\n",
      "Epoch 124/300\n",
      " - 0s - loss: 0.1554 - acc: 0.0333 - val_loss: 0.1567 - val_acc: 0.0000e+00\n",
      "Epoch 125/300\n",
      " - 0s - loss: 0.1550 - acc: 0.0333 - val_loss: 0.1563 - val_acc: 0.0000e+00\n",
      "Epoch 126/300\n",
      " - 0s - loss: 0.1546 - acc: 0.0333 - val_loss: 0.1559 - val_acc: 0.0000e+00\n",
      "Epoch 127/300\n",
      " - 0s - loss: 0.1542 - acc: 0.0333 - val_loss: 0.1555 - val_acc: 0.0000e+00\n",
      "Epoch 128/300\n",
      " - 0s - loss: 0.1538 - acc: 0.0333 - val_loss: 0.1551 - val_acc: 0.0000e+00\n",
      "Epoch 129/300\n",
      " - 0s - loss: 0.1534 - acc: 0.0333 - val_loss: 0.1547 - val_acc: 0.0000e+00\n",
      "Epoch 130/300\n",
      " - 0s - loss: 0.1530 - acc: 0.0333 - val_loss: 0.1543 - val_acc: 0.0000e+00\n",
      "Epoch 131/300\n",
      " - 0s - loss: 0.1526 - acc: 0.0333 - val_loss: 0.1539 - val_acc: 0.0000e+00\n",
      "Epoch 132/300\n",
      " - 0s - loss: 0.1522 - acc: 0.0333 - val_loss: 0.1535 - val_acc: 0.0000e+00\n",
      "Epoch 133/300\n",
      " - 0s - loss: 0.1518 - acc: 0.0333 - val_loss: 0.1531 - val_acc: 0.0000e+00\n",
      "Epoch 134/300\n",
      " - 0s - loss: 0.1514 - acc: 0.0333 - val_loss: 0.1527 - val_acc: 0.0000e+00\n",
      "Epoch 135/300\n",
      " - 0s - loss: 0.1510 - acc: 0.0333 - val_loss: 0.1523 - val_acc: 0.0000e+00\n",
      "Epoch 136/300\n",
      " - 0s - loss: 0.1506 - acc: 0.0333 - val_loss: 0.1519 - val_acc: 0.0000e+00\n",
      "Epoch 137/300\n",
      " - 0s - loss: 0.1502 - acc: 0.0333 - val_loss: 0.1515 - val_acc: 0.0000e+00\n",
      "Epoch 138/300\n",
      " - 0s - loss: 0.1498 - acc: 0.0333 - val_loss: 0.1511 - val_acc: 0.0000e+00\n",
      "Epoch 139/300\n",
      " - 0s - loss: 0.1494 - acc: 0.0333 - val_loss: 0.1507 - val_acc: 0.0000e+00\n",
      "Epoch 140/300\n",
      " - 0s - loss: 0.1490 - acc: 0.0333 - val_loss: 0.1503 - val_acc: 0.0000e+00\n",
      "Epoch 141/300\n",
      " - 0s - loss: 0.1486 - acc: 0.0333 - val_loss: 0.1500 - val_acc: 0.0000e+00\n",
      "Epoch 142/300\n",
      " - 0s - loss: 0.1483 - acc: 0.0333 - val_loss: 0.1496 - val_acc: 0.0000e+00\n",
      "Epoch 143/300\n",
      " - 0s - loss: 0.1479 - acc: 0.0333 - val_loss: 0.1492 - val_acc: 0.0000e+00\n",
      "Epoch 144/300\n",
      " - 0s - loss: 0.1475 - acc: 0.0333 - val_loss: 0.1488 - val_acc: 0.0000e+00\n",
      "Epoch 145/300\n",
      " - 0s - loss: 0.1471 - acc: 0.0333 - val_loss: 0.1484 - val_acc: 0.0000e+00\n",
      "Epoch 146/300\n",
      " - 0s - loss: 0.1467 - acc: 0.0333 - val_loss: 0.1480 - val_acc: 0.0000e+00\n",
      "Epoch 147/300\n",
      " - 0s - loss: 0.1464 - acc: 0.0333 - val_loss: 0.1477 - val_acc: 0.0000e+00\n",
      "Epoch 148/300\n",
      " - 0s - loss: 0.1460 - acc: 0.0333 - val_loss: 0.1473 - val_acc: 0.0000e+00\n",
      "Epoch 149/300\n",
      " - 0s - loss: 0.1456 - acc: 0.0333 - val_loss: 0.1469 - val_acc: 0.0000e+00\n",
      "Epoch 150/300\n",
      " - 0s - loss: 0.1452 - acc: 0.0333 - val_loss: 0.1465 - val_acc: 0.0000e+00\n",
      "Epoch 151/300\n",
      " - 0s - loss: 0.1449 - acc: 0.0333 - val_loss: 0.1462 - val_acc: 0.0000e+00\n",
      "Epoch 152/300\n",
      " - 0s - loss: 0.1445 - acc: 0.0333 - val_loss: 0.1458 - val_acc: 0.0000e+00\n",
      "Epoch 153/300\n",
      " - 0s - loss: 0.1441 - acc: 0.0333 - val_loss: 0.1454 - val_acc: 0.0000e+00\n",
      "Epoch 154/300\n",
      " - 0s - loss: 0.1437 - acc: 0.0333 - val_loss: 0.1450 - val_acc: 0.0000e+00\n",
      "Epoch 155/300\n",
      " - 0s - loss: 0.1434 - acc: 0.0333 - val_loss: 0.1447 - val_acc: 0.0000e+00\n",
      "Epoch 156/300\n",
      " - 0s - loss: 0.1430 - acc: 0.0333 - val_loss: 0.1443 - val_acc: 0.0000e+00\n",
      "Epoch 157/300\n",
      " - 0s - loss: 0.1426 - acc: 0.0333 - val_loss: 0.1439 - val_acc: 0.0000e+00\n",
      "Epoch 158/300\n",
      " - 0s - loss: 0.1423 - acc: 0.0333 - val_loss: 0.1436 - val_acc: 0.0000e+00\n",
      "Epoch 159/300\n",
      " - 0s - loss: 0.1419 - acc: 0.0333 - val_loss: 0.1432 - val_acc: 0.0000e+00\n",
      "Epoch 160/300\n",
      " - 0s - loss: 0.1415 - acc: 0.0333 - val_loss: 0.1429 - val_acc: 0.0000e+00\n",
      "Epoch 161/300\n",
      " - 0s - loss: 0.1412 - acc: 0.0333 - val_loss: 0.1425 - val_acc: 0.0000e+00\n",
      "Epoch 162/300\n",
      " - 0s - loss: 0.1408 - acc: 0.0333 - val_loss: 0.1421 - val_acc: 0.0000e+00\n",
      "Epoch 163/300\n",
      " - 0s - loss: 0.1405 - acc: 0.0333 - val_loss: 0.1418 - val_acc: 0.0000e+00\n",
      "Epoch 164/300\n",
      " - 0s - loss: 0.1401 - acc: 0.0333 - val_loss: 0.1414 - val_acc: 0.0000e+00\n",
      "Epoch 165/300\n",
      " - 0s - loss: 0.1398 - acc: 0.0333 - val_loss: 0.1411 - val_acc: 0.0000e+00\n",
      "Epoch 166/300\n",
      " - 0s - loss: 0.1394 - acc: 0.0333 - val_loss: 0.1407 - val_acc: 0.0000e+00\n",
      "Epoch 167/300\n",
      " - 0s - loss: 0.1390 - acc: 0.0333 - val_loss: 0.1403 - val_acc: 0.0000e+00\n",
      "Epoch 168/300\n",
      " - 0s - loss: 0.1387 - acc: 0.0333 - val_loss: 0.1400 - val_acc: 0.0000e+00\n",
      "Epoch 169/300\n",
      " - 0s - loss: 0.1383 - acc: 0.0333 - val_loss: 0.1396 - val_acc: 0.0000e+00\n",
      "Epoch 170/300\n",
      " - 0s - loss: 0.1380 - acc: 0.0333 - val_loss: 0.1393 - val_acc: 0.0000e+00\n",
      "Epoch 171/300\n",
      " - 0s - loss: 0.1376 - acc: 0.0333 - val_loss: 0.1389 - val_acc: 0.0000e+00\n",
      "Epoch 172/300\n",
      " - 0s - loss: 0.1373 - acc: 0.0333 - val_loss: 0.1386 - val_acc: 0.0000e+00\n",
      "Epoch 173/300\n",
      " - 0s - loss: 0.1369 - acc: 0.0333 - val_loss: 0.1382 - val_acc: 0.0000e+00\n",
      "Epoch 174/300\n",
      " - 0s - loss: 0.1366 - acc: 0.0333 - val_loss: 0.1379 - val_acc: 0.0000e+00\n",
      "Epoch 175/300\n",
      " - 0s - loss: 0.1362 - acc: 0.0333 - val_loss: 0.1375 - val_acc: 0.0000e+00\n",
      "Epoch 176/300\n",
      " - 0s - loss: 0.1359 - acc: 0.0333 - val_loss: 0.1372 - val_acc: 0.0000e+00\n",
      "Epoch 177/300\n",
      " - 0s - loss: 0.1356 - acc: 0.0333 - val_loss: 0.1368 - val_acc: 0.0000e+00\n",
      "Epoch 178/300\n",
      " - 0s - loss: 0.1352 - acc: 0.0333 - val_loss: 0.1365 - val_acc: 0.0000e+00\n",
      "Epoch 179/300\n",
      " - 0s - loss: 0.1349 - acc: 0.0333 - val_loss: 0.1362 - val_acc: 0.0000e+00\n",
      "Epoch 180/300\n",
      " - 0s - loss: 0.1345 - acc: 0.0333 - val_loss: 0.1358 - val_acc: 0.0000e+00\n",
      "Epoch 181/300\n",
      " - 0s - loss: 0.1342 - acc: 0.0333 - val_loss: 0.1355 - val_acc: 0.0000e+00\n",
      "Epoch 182/300\n",
      " - 0s - loss: 0.1338 - acc: 0.0333 - val_loss: 0.1351 - val_acc: 0.0000e+00\n",
      "Epoch 183/300\n",
      " - 0s - loss: 0.1335 - acc: 0.0333 - val_loss: 0.1348 - val_acc: 0.0000e+00\n",
      "Epoch 184/300\n",
      " - 0s - loss: 0.1332 - acc: 0.0333 - val_loss: 0.1345 - val_acc: 0.0000e+00\n",
      "Epoch 185/300\n",
      " - 0s - loss: 0.1328 - acc: 0.0333 - val_loss: 0.1341 - val_acc: 0.0000e+00\n",
      "Epoch 186/300\n",
      " - 0s - loss: 0.1325 - acc: 0.0333 - val_loss: 0.1338 - val_acc: 0.0000e+00\n",
      "Epoch 187/300\n",
      " - 0s - loss: 0.1322 - acc: 0.0333 - val_loss: 0.1335 - val_acc: 0.0000e+00\n",
      "Epoch 188/300\n",
      " - 0s - loss: 0.1318 - acc: 0.0333 - val_loss: 0.1331 - val_acc: 0.0000e+00\n",
      "Epoch 189/300\n",
      " - 0s - loss: 0.1315 - acc: 0.0333 - val_loss: 0.1328 - val_acc: 0.0000e+00\n",
      "Epoch 190/300\n",
      " - 0s - loss: 0.1312 - acc: 0.0333 - val_loss: 0.1325 - val_acc: 0.0000e+00\n",
      "Epoch 191/300\n",
      " - 0s - loss: 0.1308 - acc: 0.0333 - val_loss: 0.1321 - val_acc: 0.0000e+00\n",
      "Epoch 192/300\n",
      " - 0s - loss: 0.1305 - acc: 0.0333 - val_loss: 0.1318 - val_acc: 0.0000e+00\n",
      "Epoch 193/300\n",
      " - 0s - loss: 0.1302 - acc: 0.0333 - val_loss: 0.1315 - val_acc: 0.0000e+00\n",
      "Epoch 194/300\n",
      " - 0s - loss: 0.1299 - acc: 0.0333 - val_loss: 0.1312 - val_acc: 0.0000e+00\n",
      "Epoch 195/300\n",
      " - 0s - loss: 0.1295 - acc: 0.0333 - val_loss: 0.1308 - val_acc: 0.0000e+00\n",
      "Epoch 196/300\n",
      " - 0s - loss: 0.1292 - acc: 0.0333 - val_loss: 0.1305 - val_acc: 0.0000e+00\n",
      "Epoch 197/300\n",
      " - 0s - loss: 0.1289 - acc: 0.0333 - val_loss: 0.1302 - val_acc: 0.0000e+00\n",
      "Epoch 198/300\n",
      " - 0s - loss: 0.1286 - acc: 0.0333 - val_loss: 0.1299 - val_acc: 0.0000e+00\n",
      "Epoch 199/300\n",
      " - 0s - loss: 0.1283 - acc: 0.0333 - val_loss: 0.1295 - val_acc: 0.0000e+00\n",
      "Epoch 200/300\n",
      " - 0s - loss: 0.1279 - acc: 0.0333 - val_loss: 0.1292 - val_acc: 0.0000e+00\n",
      "Epoch 201/300\n",
      " - 0s - loss: 0.1276 - acc: 0.0333 - val_loss: 0.1289 - val_acc: 0.0000e+00\n",
      "Epoch 202/300\n",
      " - 0s - loss: 0.1273 - acc: 0.0333 - val_loss: 0.1286 - val_acc: 0.0000e+00\n",
      "Epoch 203/300\n",
      " - 0s - loss: 0.1270 - acc: 0.0333 - val_loss: 0.1283 - val_acc: 0.0000e+00\n",
      "Epoch 204/300\n",
      " - 0s - loss: 0.1267 - acc: 0.0333 - val_loss: 0.1279 - val_acc: 0.0000e+00\n",
      "Epoch 205/300\n",
      " - 0s - loss: 0.1264 - acc: 0.0333 - val_loss: 0.1276 - val_acc: 0.0000e+00\n",
      "Epoch 206/300\n",
      " - 0s - loss: 0.1260 - acc: 0.0333 - val_loss: 0.1273 - val_acc: 0.0000e+00\n",
      "Epoch 207/300\n",
      " - 0s - loss: 0.1257 - acc: 0.0333 - val_loss: 0.1270 - val_acc: 0.0000e+00\n",
      "Epoch 208/300\n",
      " - 0s - loss: 0.1254 - acc: 0.0333 - val_loss: 0.1267 - val_acc: 0.0000e+00\n",
      "Epoch 209/300\n",
      " - 0s - loss: 0.1251 - acc: 0.0333 - val_loss: 0.1264 - val_acc: 0.0000e+00\n",
      "Epoch 210/300\n",
      " - 0s - loss: 0.1248 - acc: 0.0333 - val_loss: 0.1261 - val_acc: 0.0000e+00\n",
      "Epoch 211/300\n",
      " - 0s - loss: 0.1245 - acc: 0.0333 - val_loss: 0.1258 - val_acc: 0.0000e+00\n",
      "Epoch 212/300\n",
      " - 0s - loss: 0.1242 - acc: 0.0333 - val_loss: 0.1255 - val_acc: 0.0000e+00\n",
      "Epoch 213/300\n",
      " - 0s - loss: 0.1239 - acc: 0.0333 - val_loss: 0.1251 - val_acc: 0.0000e+00\n",
      "Epoch 214/300\n",
      " - 0s - loss: 0.1236 - acc: 0.0333 - val_loss: 0.1248 - val_acc: 0.0000e+00\n",
      "Epoch 215/300\n",
      " - 0s - loss: 0.1233 - acc: 0.0333 - val_loss: 0.1245 - val_acc: 0.0000e+00\n",
      "Epoch 216/300\n",
      " - 0s - loss: 0.1230 - acc: 0.0333 - val_loss: 0.1242 - val_acc: 0.0000e+00\n",
      "Epoch 217/300\n",
      " - 0s - loss: 0.1227 - acc: 0.0333 - val_loss: 0.1239 - val_acc: 0.0000e+00\n",
      "Epoch 218/300\n",
      " - 0s - loss: 0.1224 - acc: 0.0333 - val_loss: 0.1236 - val_acc: 0.0000e+00\n",
      "Epoch 219/300\n",
      " - 0s - loss: 0.1221 - acc: 0.0333 - val_loss: 0.1233 - val_acc: 0.0000e+00\n",
      "Epoch 220/300\n",
      " - 0s - loss: 0.1218 - acc: 0.0333 - val_loss: 0.1230 - val_acc: 0.0000e+00\n",
      "Epoch 221/300\n",
      " - 0s - loss: 0.1215 - acc: 0.0333 - val_loss: 0.1227 - val_acc: 0.0000e+00\n",
      "Epoch 222/300\n",
      " - 0s - loss: 0.1212 - acc: 0.0333 - val_loss: 0.1224 - val_acc: 0.0000e+00\n",
      "Epoch 223/300\n",
      " - 0s - loss: 0.1209 - acc: 0.0333 - val_loss: 0.1221 - val_acc: 0.0000e+00\n",
      "Epoch 224/300\n",
      " - 0s - loss: 0.1206 - acc: 0.0333 - val_loss: 0.1218 - val_acc: 0.0000e+00\n",
      "Epoch 225/300\n",
      " - 0s - loss: 0.1203 - acc: 0.0333 - val_loss: 0.1215 - val_acc: 0.0000e+00\n",
      "Epoch 226/300\n",
      " - 0s - loss: 0.1200 - acc: 0.0333 - val_loss: 0.1212 - val_acc: 0.0000e+00\n",
      "Epoch 227/300\n",
      " - 0s - loss: 0.1197 - acc: 0.0333 - val_loss: 0.1210 - val_acc: 0.0000e+00\n",
      "Epoch 228/300\n",
      " - 0s - loss: 0.1194 - acc: 0.0333 - val_loss: 0.1207 - val_acc: 0.0000e+00\n",
      "Epoch 229/300\n",
      " - 0s - loss: 0.1191 - acc: 0.0333 - val_loss: 0.1204 - val_acc: 0.0000e+00\n",
      "Epoch 230/300\n",
      " - 0s - loss: 0.1188 - acc: 0.0333 - val_loss: 0.1201 - val_acc: 0.0000e+00\n",
      "Epoch 231/300\n",
      " - 0s - loss: 0.1185 - acc: 0.0333 - val_loss: 0.1198 - val_acc: 0.0000e+00\n",
      "Epoch 232/300\n",
      " - 0s - loss: 0.1183 - acc: 0.0333 - val_loss: 0.1195 - val_acc: 0.0000e+00\n",
      "Epoch 233/300\n",
      " - 0s - loss: 0.1180 - acc: 0.0333 - val_loss: 0.1192 - val_acc: 0.0000e+00\n",
      "Epoch 234/300\n",
      " - 0s - loss: 0.1177 - acc: 0.0333 - val_loss: 0.1189 - val_acc: 0.0000e+00\n",
      "Epoch 235/300\n",
      " - 0s - loss: 0.1174 - acc: 0.0333 - val_loss: 0.1186 - val_acc: 0.0000e+00\n",
      "Epoch 236/300\n",
      " - 0s - loss: 0.1171 - acc: 0.0333 - val_loss: 0.1184 - val_acc: 0.0000e+00\n",
      "Epoch 237/300\n",
      " - 0s - loss: 0.1168 - acc: 0.0333 - val_loss: 0.1181 - val_acc: 0.0000e+00\n",
      "Epoch 238/300\n",
      " - 0s - loss: 0.1166 - acc: 0.0333 - val_loss: 0.1178 - val_acc: 0.0000e+00\n",
      "Epoch 239/300\n",
      " - 0s - loss: 0.1163 - acc: 0.0333 - val_loss: 0.1175 - val_acc: 0.0000e+00\n",
      "Epoch 240/300\n",
      " - 0s - loss: 0.1160 - acc: 0.0333 - val_loss: 0.1172 - val_acc: 0.0000e+00\n",
      "Epoch 241/300\n",
      " - 0s - loss: 0.1157 - acc: 0.0333 - val_loss: 0.1170 - val_acc: 0.0000e+00\n",
      "Epoch 242/300\n",
      " - 0s - loss: 0.1154 - acc: 0.0333 - val_loss: 0.1167 - val_acc: 0.0000e+00\n",
      "Epoch 243/300\n",
      " - 0s - loss: 0.1152 - acc: 0.0333 - val_loss: 0.1164 - val_acc: 0.0000e+00\n",
      "Epoch 244/300\n",
      " - 0s - loss: 0.1149 - acc: 0.0333 - val_loss: 0.1161 - val_acc: 0.0000e+00\n",
      "Epoch 245/300\n",
      " - 0s - loss: 0.1146 - acc: 0.0333 - val_loss: 0.1158 - val_acc: 0.0000e+00\n",
      "Epoch 246/300\n",
      " - 0s - loss: 0.1143 - acc: 0.0333 - val_loss: 0.1156 - val_acc: 0.0000e+00\n",
      "Epoch 247/300\n",
      " - 0s - loss: 0.1141 - acc: 0.0333 - val_loss: 0.1153 - val_acc: 0.0000e+00\n",
      "Epoch 248/300\n",
      " - 0s - loss: 0.1138 - acc: 0.0333 - val_loss: 0.1150 - val_acc: 0.0000e+00\n",
      "Epoch 249/300\n",
      " - 0s - loss: 0.1135 - acc: 0.0333 - val_loss: 0.1148 - val_acc: 0.0000e+00\n",
      "Epoch 250/300\n",
      " - 0s - loss: 0.1133 - acc: 0.0333 - val_loss: 0.1145 - val_acc: 0.0000e+00\n",
      "Epoch 251/300\n",
      " - 0s - loss: 0.1130 - acc: 0.0333 - val_loss: 0.1142 - val_acc: 0.0000e+00\n",
      "Epoch 252/300\n",
      " - 0s - loss: 0.1127 - acc: 0.0333 - val_loss: 0.1139 - val_acc: 0.0000e+00\n",
      "Epoch 253/300\n",
      " - 0s - loss: 0.1125 - acc: 0.0333 - val_loss: 0.1137 - val_acc: 0.0000e+00\n",
      "Epoch 254/300\n",
      " - 0s - loss: 0.1122 - acc: 0.0333 - val_loss: 0.1134 - val_acc: 0.0000e+00\n",
      "Epoch 255/300\n",
      " - 0s - loss: 0.1119 - acc: 0.0333 - val_loss: 0.1131 - val_acc: 0.0000e+00\n",
      "Epoch 256/300\n",
      " - 0s - loss: 0.1117 - acc: 0.0333 - val_loss: 0.1129 - val_acc: 0.0000e+00\n",
      "Epoch 257/300\n",
      " - 0s - loss: 0.1114 - acc: 0.0333 - val_loss: 0.1126 - val_acc: 0.0000e+00\n",
      "Epoch 258/300\n",
      " - 0s - loss: 0.1111 - acc: 0.0333 - val_loss: 0.1124 - val_acc: 0.0000e+00\n",
      "Epoch 259/300\n",
      " - 0s - loss: 0.1109 - acc: 0.0333 - val_loss: 0.1121 - val_acc: 0.0000e+00\n",
      "Epoch 260/300\n",
      " - 0s - loss: 0.1106 - acc: 0.0333 - val_loss: 0.1118 - val_acc: 0.0000e+00\n",
      "Epoch 261/300\n",
      " - 0s - loss: 0.1104 - acc: 0.0333 - val_loss: 0.1116 - val_acc: 0.0000e+00\n",
      "Epoch 262/300\n",
      " - 0s - loss: 0.1101 - acc: 0.0333 - val_loss: 0.1113 - val_acc: 0.0000e+00\n",
      "Epoch 263/300\n",
      " - 0s - loss: 0.1099 - acc: 0.0333 - val_loss: 0.1111 - val_acc: 0.0000e+00\n",
      "Epoch 264/300\n",
      " - 0s - loss: 0.1096 - acc: 0.0333 - val_loss: 0.1108 - val_acc: 0.0000e+00\n",
      "Epoch 265/300\n",
      " - 0s - loss: 0.1093 - acc: 0.0333 - val_loss: 0.1105 - val_acc: 0.0000e+00\n",
      "Epoch 266/300\n",
      " - 0s - loss: 0.1091 - acc: 0.0333 - val_loss: 0.1103 - val_acc: 0.0000e+00\n",
      "Epoch 267/300\n",
      " - 0s - loss: 0.1088 - acc: 0.0333 - val_loss: 0.1100 - val_acc: 0.0000e+00\n",
      "Epoch 268/300\n",
      " - 0s - loss: 0.1086 - acc: 0.0333 - val_loss: 0.1098 - val_acc: 0.0000e+00\n",
      "Epoch 269/300\n",
      " - 0s - loss: 0.1083 - acc: 0.0333 - val_loss: 0.1095 - val_acc: 0.0000e+00\n",
      "Epoch 270/300\n",
      " - 0s - loss: 0.1081 - acc: 0.0333 - val_loss: 0.1093 - val_acc: 0.0000e+00\n",
      "Epoch 271/300\n",
      " - 0s - loss: 0.1078 - acc: 0.0333 - val_loss: 0.1090 - val_acc: 0.0000e+00\n",
      "Epoch 272/300\n",
      " - 0s - loss: 0.1076 - acc: 0.0333 - val_loss: 0.1088 - val_acc: 0.0000e+00\n",
      "Epoch 273/300\n",
      " - 0s - loss: 0.1073 - acc: 0.0333 - val_loss: 0.1085 - val_acc: 0.0000e+00\n",
      "Epoch 274/300\n",
      " - 0s - loss: 0.1071 - acc: 0.0333 - val_loss: 0.1083 - val_acc: 0.0000e+00\n",
      "Epoch 275/300\n",
      " - 0s - loss: 0.1068 - acc: 0.0333 - val_loss: 0.1080 - val_acc: 0.0000e+00\n",
      "Epoch 276/300\n",
      " - 0s - loss: 0.1066 - acc: 0.0333 - val_loss: 0.1078 - val_acc: 0.0000e+00\n",
      "Epoch 277/300\n",
      " - 0s - loss: 0.1064 - acc: 0.0333 - val_loss: 0.1075 - val_acc: 0.0000e+00\n",
      "Epoch 278/300\n",
      " - 0s - loss: 0.1061 - acc: 0.0333 - val_loss: 0.1073 - val_acc: 0.0000e+00\n",
      "Epoch 279/300\n",
      " - 0s - loss: 0.1059 - acc: 0.0333 - val_loss: 0.1071 - val_acc: 0.0000e+00\n",
      "Epoch 280/300\n",
      " - 0s - loss: 0.1056 - acc: 0.0333 - val_loss: 0.1068 - val_acc: 0.0000e+00\n",
      "Epoch 281/300\n",
      " - 0s - loss: 0.1054 - acc: 0.0333 - val_loss: 0.1066 - val_acc: 0.0000e+00\n",
      "Epoch 282/300\n",
      " - 0s - loss: 0.1052 - acc: 0.0333 - val_loss: 0.1063 - val_acc: 0.0000e+00\n",
      "Epoch 283/300\n",
      " - 0s - loss: 0.1049 - acc: 0.0333 - val_loss: 0.1061 - val_acc: 0.0000e+00\n",
      "Epoch 284/300\n",
      " - 0s - loss: 0.1047 - acc: 0.0333 - val_loss: 0.1059 - val_acc: 0.0000e+00\n",
      "Epoch 285/300\n",
      " - 0s - loss: 0.1044 - acc: 0.0333 - val_loss: 0.1056 - val_acc: 0.0000e+00\n",
      "Epoch 286/300\n",
      " - 0s - loss: 0.1042 - acc: 0.0333 - val_loss: 0.1054 - val_acc: 0.0000e+00\n",
      "Epoch 287/300\n",
      " - 0s - loss: 0.1040 - acc: 0.0333 - val_loss: 0.1051 - val_acc: 0.0000e+00\n",
      "Epoch 288/300\n",
      " - 0s - loss: 0.1037 - acc: 0.0333 - val_loss: 0.1049 - val_acc: 0.0000e+00\n",
      "Epoch 289/300\n",
      " - 0s - loss: 0.1035 - acc: 0.0333 - val_loss: 0.1047 - val_acc: 0.0000e+00\n",
      "Epoch 290/300\n",
      " - 0s - loss: 0.1033 - acc: 0.0333 - val_loss: 0.1044 - val_acc: 0.0000e+00\n",
      "Epoch 291/300\n",
      " - 0s - loss: 0.1030 - acc: 0.0333 - val_loss: 0.1042 - val_acc: 0.0000e+00\n",
      "Epoch 292/300\n",
      " - 0s - loss: 0.1028 - acc: 0.0333 - val_loss: 0.1040 - val_acc: 0.0000e+00\n",
      "Epoch 293/300\n",
      " - 0s - loss: 0.1026 - acc: 0.0333 - val_loss: 0.1037 - val_acc: 0.0000e+00\n",
      "Epoch 294/300\n",
      " - 0s - loss: 0.1024 - acc: 0.0333 - val_loss: 0.1035 - val_acc: 0.0000e+00\n",
      "Epoch 295/300\n",
      " - 0s - loss: 0.1021 - acc: 0.0333 - val_loss: 0.1033 - val_acc: 0.0000e+00\n",
      "Epoch 296/300\n",
      " - 0s - loss: 0.1019 - acc: 0.0333 - val_loss: 0.1031 - val_acc: 0.0000e+00\n",
      "Epoch 297/300\n",
      " - 0s - loss: 0.1017 - acc: 0.0333 - val_loss: 0.1028 - val_acc: 0.0000e+00\n",
      "Epoch 298/300\n",
      " - 0s - loss: 0.1014 - acc: 0.0333 - val_loss: 0.1026 - val_acc: 0.0000e+00\n",
      "Epoch 299/300\n",
      " - 0s - loss: 0.1012 - acc: 0.0333 - val_loss: 0.1024 - val_acc: 0.0000e+00\n",
      "Epoch 300/300\n",
      " - 0s - loss: 0.1010 - acc: 0.0333 - val_loss: 0.1021 - val_acc: 0.0000e+00\n",
      "CPU times: user 13.9 s, sys: 464 ms, total: 14.4 s\n",
      "Wall time: 9.05 s\n"
     ]
    }
   ],
   "source": [
    "%%time\n",
    "hist = model.fit(X_train, Y_train, \n",
    "                 epochs=300, batch_size=100, \n",
    "                 validation_data=(X_test, Y_test), \n",
    "                 verbose=2)"
   ]
  },
  {
   "cell_type": "code",
   "execution_count": 89,
   "metadata": {
    "collapsed": false
   },
   "outputs": [
    {
     "data": {
      "image/png": "[encoded data removed]",
      "text/plain": [
       "<matplotlib.figure.Figure at 0x7fd141d4a4a8>"
      ]
     },
     "metadata": {},
     "output_type": "display_data"
    }
   ],
   "source": [
    "plt.plot(hist.history['loss'])\n",
    "plt.show()"
   ]
  },
  {
   "cell_type": "code",
   "execution_count": 90,
   "metadata": {
    "collapsed": false
   },
   "outputs": [
    {
     "data": {
      "image/png": "[encoded data removed]",
      "text/plain": [
       "<matplotlib.figure.Figure at 0x7fd126f8ff60>"
      ]
     },
     "metadata": {},
     "output_type": "display_data"
    }
   ],
   "source": [
    "plt.plot(hist.history['acc'], 'b-', label=\"training\")\n",
    "plt.plot(hist.history['val_acc'], 'r:', label=\"test\")\n",
    "plt.legend()\n",
    "plt.show()"
   ]
  }
 ],
 "metadata": {
  "kernelspec": {
   "display_name": "Python 3",
   "language": "python",
   "name": "python3"
  },
  "language_info": {
   "codemirror_mode": {
    "name": "ipython",
    "version": 3
   },
   "file_extension": ".py",
   "mimetype": "text/x-python",
   "name": "python",
   "nbconvert_exporter": "python",
   "pygments_lexer": "ipython3",
   "version": "3.6.0"
  }
 },
 "nbformat": 4,
 "nbformat_minor": 2
}
